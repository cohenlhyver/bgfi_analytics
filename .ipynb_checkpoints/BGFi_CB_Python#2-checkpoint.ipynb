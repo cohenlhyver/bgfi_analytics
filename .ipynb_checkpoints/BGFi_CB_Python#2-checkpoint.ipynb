{
 "cells": [
  {
   "cell_type": "markdown",
   "metadata": {},
   "source": [
    "<font size=\"6\"><strong>Career Booster Python & Data Science</font></strong><br /><br />\n",
    "<font size=\"6\">Séance #2</font><br /><br />"
   ]
  },
  {
   "cell_type": "markdown",
   "metadata": {},
   "source": [
    "<font size=\"5\"><u>Description</u></font><br /><br />\n",
    "Cette session consiste surtout en la manipulation des classes, leur création et leur utilisation. <br />"
   ]
  },
  {
   "cell_type": "markdown",
   "metadata": {},
   "source": [
    "<hr size=\"30\">\n",
    "<font size=\"5\"><u>Les types de variables</u></font><br /><br />"
   ]
  },
  {
   "cell_type": "code",
   "execution_count": 1,
   "metadata": {},
   "outputs": [
    {
     "name": "stdout",
     "output_type": "stream",
     "text": [
      "Hello World  :  <class 'str'>\n",
      "20  :  <class 'int'>\n",
      "20.5  :  <class 'float'>\n",
      "1j  :  <class 'complex'>\n",
      "['BGFi', 'Adneom', 'PTC']  :  <class 'list'>\n",
      "('BGFI', 'Adneom', 'PTC')  :  <class 'tuple'>\n",
      "range(0, 4)  :  <class 'range'>\n",
      "{'Nom': 'BGFi', 'Taille': 200}  :  <class 'dict'>\n",
      "True  :  <class 'bool'>\n",
      "20  :  <class 'int'>\n",
      "20.0  :  <class 'float'>\n"
     ]
    }
   ],
   "source": [
    "d = [\"Hello World\", \n",
    "     20, \n",
    "     20.5, \n",
    "     1j,\n",
    "     [\"BGFi\", \"Adneom\", \"PTC\"],\n",
    "     (\"BGFI\", \"Adneom\", \"PTC\"),\n",
    "     range(4),\n",
    "     {\"Nom\":\"BGFi\", \"Taille\":200},\n",
    "     True,\n",
    "     int(20.5),\n",
    "     float(20)]\n",
    "\n",
    "for iField in d:\n",
    "    print(iField, \" : \", type(iField))"
   ]
  },
  {
   "cell_type": "markdown",
   "metadata": {},
   "source": [
    "<hr size=\"30\">\n",
    "<font size=\"5\"><u>\"Hello, World!\"</u></font><br /><br />\n",
    "\n",
    "A chaque fois que l'on découvre un nouveau langage, la tradition est d'apprendre à écrire le programme permettant de sortir \"Hello, World!\"<br />\n",
    "\n",
    "<i>Première méthode :</i>"
   ]
  },
  {
   "cell_type": "code",
   "execution_count": 2,
   "metadata": {},
   "outputs": [
    {
     "name": "stdout",
     "output_type": "stream",
     "text": [
      "Hello, World!\n"
     ]
    }
   ],
   "source": [
    "print(\"Hello, World!\")"
   ]
  },
  {
   "cell_type": "markdown",
   "metadata": {},
   "source": [
    "<i>Deuxième méthode :</i>"
   ]
  },
  {
   "cell_type": "code",
   "execution_count": 3,
   "metadata": {},
   "outputs": [
    {
     "name": "stdout",
     "output_type": "stream",
     "text": [
      "Hello, World!\n"
     ]
    }
   ],
   "source": [
    "def hello_world():\n",
    "    print(\"Hello, World!\")\n",
    "hello_world()"
   ]
  },
  {
   "cell_type": "markdown",
   "metadata": {},
   "source": [
    "<i>Troisième méthode :</i>"
   ]
  },
  {
   "cell_type": "code",
   "execution_count": 5,
   "metadata": {},
   "outputs": [
    {
     "name": "stdout",
     "output_type": "stream",
     "text": [
      "Hello, World!\n",
      "Hello, World!\n"
     ]
    }
   ],
   "source": [
    "class HelloWorld:\n",
    "    '''\n",
    "        Description : Classe permettant d'afficher le message \"Hello, World!\"\n",
    "    '''\n",
    "    def __init__(self):\n",
    "        print(\"Hello, World!\")\n",
    "c = HelloWorld()"
   ]
  },
  {
   "cell_type": "markdown",
   "metadata": {},
   "source": [
    "<i>Quatrième méthode :</i>"
   ]
  },
  {
   "cell_type": "code",
   "execution_count": 7,
   "metadata": {},
   "outputs": [
    {
     "name": "stdout",
     "output_type": "stream",
     "text": [
      "Hello, World!\n"
     ]
    }
   ],
   "source": [
    "class HelloWorld:\n",
    "    '''\n",
    "        Description : Classe permettant d'afficher le message \"Hello, World!\"\n",
    "    '''\n",
    "    def __init__(self):\n",
    "        self.message = \"Hello, World!\"\n",
    "    \n",
    "    def print_message(self):\n",
    "        print(self.message)\n",
    "\n",
    "c = HelloWorld()\n",
    "c.print_message()"
   ]
  },
  {
   "cell_type": "markdown",
   "metadata": {},
   "source": [
    "<i>Cinquième méthode :</i>"
   ]
  },
  {
   "cell_type": "code",
   "execution_count": 1,
   "metadata": {},
   "outputs": [
    {
     "data": {
      "text/plain": [
       "Hello, World!"
      ]
     },
     "execution_count": 1,
     "metadata": {},
     "output_type": "execute_result"
    }
   ],
   "source": [
    "class HelloWorld:\n",
    "    '''\n",
    "        Description : Classe permettant d'afficher le message \"Hello, World!\"\n",
    "    '''\n",
    "    def __init__(self):\n",
    "        self.message = \"Hello, World!\"\n",
    "    \n",
    "    # === Cette surcharge de l'opérateur __repr__ (pour representation) permet de contrôler \n",
    "    # --- la façon dont est affiché l'objet lorsqu'on tape directement son nom.\n",
    "    # --- Surtout utilisé pour du débug\n",
    "    def __repr__(self):\n",
    "        return self.message\n",
    "\n",
    "c = HelloWorld()\n",
    "c"
   ]
  },
  {
   "cell_type": "markdown",
   "metadata": {},
   "source": [
    "<hr size=\"30\">\n",
    "<font size=\"5\"><u>Les classes</u></font><br /><br />\n",
    "\n",
    "Les classes sont sans doute l'aspect le plus intéressant de la programmation en Python.<br />\n",
    "D'ailleurs, en Python, <i>tout est classe.</i><br />\n",
    "Voilà un exemple de classe regroupant une partie des possibilités de la POO en Python."
   ]
  },
  {
   "cell_type": "code",
   "execution_count": 1,
   "metadata": {},
   "outputs": [],
   "source": [
    "import numpy as np\n",
    "from datetime import datetime\n",
    "\n",
    "class Company:\n",
    "    '''\n",
    "        Description : cette classe implémente une entreprise\n",
    "    '''\n",
    "    \n",
    "    def __init__(self, name, number_of_employees):\n",
    "        self.name = name\n",
    "        self.number_of_employees = number_of_employees\n",
    "        self.clients = {}\n",
    "        \n",
    "    def add_client(self, client, benefits):\n",
    "        if not self.isClientExisting(client):\n",
    "            self.clients[client] = benefits\n",
    "        \n",
    "    def isClientExisting(self, client):\n",
    "        if client in self.clients.keys():\n",
    "            return True\n",
    "        return False"
   ]
  },
  {
   "cell_type": "code",
   "execution_count": 2,
   "metadata": {},
   "outputs": [
    {
     "data": {
      "text/plain": [
       "<__main__.Company at 0x108354160>"
      ]
     },
     "execution_count": 2,
     "metadata": {},
     "output_type": "execute_result"
    }
   ],
   "source": [
    "c1 = Company('BGFi', 100)\n",
    "c2 = Company('Adneom', 50)\n",
    "c1"
   ]
  },
  {
   "cell_type": "code",
   "execution_count": 3,
   "metadata": {},
   "outputs": [],
   "source": [
    "c1.addClient('SNCF', 1000)"
   ]
  },
  {
   "cell_type": "markdown",
   "metadata": {},
   "source": [
    "Ici, nous allons ajouter à BGFi une liste de clients avec les bénéfices associés.<br />\n",
    "Pour cela nous allons utiliser une boucle <i>for</i> et la fonction <i>zip</i> permettant de parcourir les éléments de deux listes un à un."
   ]
  },
  {
   "cell_type": "code",
   "execution_count": 4,
   "metadata": {},
   "outputs": [],
   "source": [
    "client_list = ['SNCF', 'EDF', 'GDF', 'BNP', 'HSBC']\n",
    "benefits_list = [1000, 500, 800, 900, 1200]\n",
    "\n",
    "for iClient, iBenef in zip(client_list, benefits_list):\n",
    "    c1.addClient(iClient, iBenef)"
   ]
  },
  {
   "cell_type": "code",
   "execution_count": 5,
   "metadata": {},
   "outputs": [
    {
     "data": {
      "text/plain": [
       "{'SNCF': 1000, 'EDF': 500, 'GDF': 800, 'BNP': 900, 'HSBC': 1200}"
      ]
     },
     "execution_count": 5,
     "metadata": {},
     "output_type": "execute_result"
    }
   ],
   "source": [
    "c1.clients"
   ]
  },
  {
   "cell_type": "markdown",
   "metadata": {},
   "source": [
    "Nous avons parlé de la surcharge d'opérateurs, méthode permettant d'imposer un comportement différent aux fonctions déjà présentes de type \"addition\", \"soustraction\", \"division\" etc."
   ]
  },
  {
   "cell_type": "code",
   "execution_count": 3,
   "metadata": {},
   "outputs": [],
   "source": [
    "class Company:\n",
    "    '''\n",
    "        Description :\n",
    "            Cette classe implémente une entreprise et ses clients.\n",
    "        Input :\n",
    "            - name[str] : nom de l'entreprise\n",
    "            - number_of_employees[int] : nombre d'employés de l'entreprise\n",
    "    '''\n",
    "    def __init__(self, name, number_of_employees):\n",
    "        self.name = name\n",
    "        self.number_of_employees = number_of_employees\n",
    "        self.clients = {}  # --- Initialisation de l'attribut 'client' comme un dictionnaire\n",
    "    \n",
    "    def add_client(self, client, benefits):\n",
    "        ''' Ajoute un client et ses bénéfices.\n",
    "        '''\n",
    "        if not self.isClientExisting(client):\n",
    "            self.clients[client] = benefits\n",
    "    \n",
    "    # --- Note : Pour les méthodes/fonctions renvoyant un booléen (true / false, 0 / 1 etc.)\n",
    "    # --- il est judicieux de les nommer en commençant par 'is' ou 'has'\n",
    "    def is_client_existing(self, client):\n",
    "        ''' Vérifie si le client existe déjà\n",
    "        '''\n",
    "        if client in self.clients.keys(): # ou ... in [*self.clients]\n",
    "            return True\n",
    "        return False\n",
    "\n",
    "    def __add__(self, company):\n",
    "        ''' Surcharge de l'opérateur '+'. Permet d'additionner le nombre d'employés de deux entreprises\n",
    "        '''\n",
    "        c = Company(self.name, self.number_of_employees)\n",
    "        c.number_of_employees += company.number_of_employees\n",
    "        return c.number_of_employees\n",
    "\n",
    "    def __repr__(self):\n",
    "        return self.name"
   ]
  },
  {
   "cell_type": "code",
   "execution_count": 4,
   "metadata": {},
   "outputs": [
    {
     "data": {
      "text/plain": [
       "BGFi"
      ]
     },
     "execution_count": 4,
     "metadata": {},
     "output_type": "execute_result"
    }
   ],
   "source": [
    "c1 = Company('BGFi', 100)\n",
    "c2 = Company('Adneom', 50)\n",
    "c1"
   ]
  },
  {
   "cell_type": "code",
   "execution_count": 5,
   "metadata": {},
   "outputs": [
    {
     "data": {
      "text/plain": [
       "150"
      ]
     },
     "execution_count": 5,
     "metadata": {},
     "output_type": "execute_result"
    }
   ],
   "source": [
    "c2+c1"
   ]
  },
  {
   "cell_type": "code",
   "execution_count": 45,
   "metadata": {},
   "outputs": [],
   "source": [
    "import numpy as np\n",
    "\n",
    "RATINGS_LIMITS = [0, 5]\n",
    "\n",
    "class Person:\n",
    "    '''\n",
    "        Description :\n",
    "            Implémente une classe représentant un 'user' Yelp.\n",
    "    '''\n",
    "    def __init__(self, person_id, location=None):\n",
    "        self.id = person_id\n",
    "        self.reviews = []\n",
    "        self.average_rating = 2.5  # Les notes vont de 0 à 5 -> moyenne à 2.5 par défaut\n",
    "        self.location = location\n",
    "        \n",
    "    def writesReview(self, business, review, rating):\n",
    "        ''' Commentaire laissé par une personne.\n",
    "            Ce commentaire sera aussi écrit dans l'instance Businness correspondante.\n",
    "            Input:\n",
    "                - business[object]\n",
    "                - review[string]\n",
    "                - rating[float]\n",
    "        '''\n",
    "        self.reviews.append({'business': business.id,\n",
    "                             'review': review,\n",
    "                             'rating': rating})\n",
    "        business.addReview(self.id, review, rating)\n",
    "\n",
    "\n",
    "class Business:\n",
    "    '''\n",
    "        Description :\n",
    "            Implémente une classe représentant un 'business' Yelp.\n",
    "    '''\n",
    "    def __init__(self, business_id, location=None):\n",
    "        self.id = business_id\n",
    "        self.location = location\n",
    "        self.reviews = []\n",
    "        self._average_rating = 2.5\n",
    "\n",
    "    def addReview(self, person_id, review, rating):\n",
    "        self.reviews.append({'review': review,\n",
    "                             'by': person_id,\n",
    "                             'rating': rating})\n",
    "        self.computeAverageRating()\n",
    "        \n",
    "    def computeAverageRating(self):\n",
    "        self._average_rating = np.mean([iRev['rating'] for iRev in self.reviews])\n",
    "\n",
    "    def _get_average_rating(self):\n",
    "        print('The average rating is {} stars'.format(self._average_rating))\n",
    "    def _set_average_rating(self, rating):\n",
    "        if rating < RATINGS_LIMITS[0] or rating > RATINGS_LIMITS[1]:\n",
    "            print('Error')\n",
    "            return -1\n",
    "        else:\n",
    "            self._average_rating = rating\n",
    "    average_rating = property(_get_average_rating, _set_average_rating)"
   ]
  },
  {
   "cell_type": "code",
   "execution_count": 46,
   "metadata": {},
   "outputs": [],
   "source": [
    "p1 = Person(123, location=[47.78, 0.677])\n",
    "p2 = Person(121)\n",
    "b1 = Business(221)\n",
    "p1.writesReview(b1, 'Commentaire de p1 sur business', 3.5)\n",
    "p2.writesReview(b1, 'Commentaire de p2 sur business', 2)"
   ]
  },
  {
   "cell_type": "code",
   "execution_count": 53,
   "metadata": {},
   "outputs": [
    {
     "name": "stdout",
     "output_type": "stream",
     "text": [
      "[{'review': 'Commentaire de p1 sur business', 'by': 123, 'rating': 3.5}, {'review': 'Commentaire de p2 sur business', 'by': 121, 'rating': 2}]\n"
     ]
    }
   ],
   "source": [
    "print(b1.reviews)"
   ]
  },
  {
   "cell_type": "code",
   "execution_count": 60,
   "metadata": {},
   "outputs": [
    {
     "name": "stdout",
     "output_type": "stream",
     "text": [
      "The average rating is 2.75 stars\n"
     ]
    }
   ],
   "source": [
    "b1.average_rating"
   ]
  },
  {
   "cell_type": "markdown",
   "metadata": {},
   "source": [
    "<hr size=\"30\">\n",
    "<font size=\"5\"><u>Lecture — Ecriture</u></font><br /><br />\n",
    "Les processus de lecture et d'écriture de fichiers sont essentiels lors d'un projet de Data Science.<br />\n",
    "En effet, les données sont très souvent stockées soit sous forme de fichiers, soit sur des serveurs.<br />\n",
    "Nous ne verrons ici, pour le moment, que la lecture et l'écriture de fichiers en local."
   ]
  },
  {
   "cell_type": "code",
   "execution_count": 16,
   "metadata": {},
   "outputs": [
    {
     "name": "stdout",
     "output_type": "stream",
     "text": [
      "On a ajouté du texte ici !\n",
      "\n"
     ]
    }
   ],
   "source": [
    "path_name = \"../Data\"\n",
    "file_name = \"exemple.txt\"\n",
    "\n",
    "# Ecriture du fichier \n",
    "f = open(path_name + '/' + file_name, 'w')\n",
    "f.write(\"On a ajouté du texte ici !\\n\")\n",
    "f.close()\n",
    "\n",
    "# Lecture du fichier\n",
    "f = open(path_name + '/' + file_name, 'r')\n",
    "print(f.read())"
   ]
  },
  {
   "cell_type": "code",
   "execution_count": 17,
   "metadata": {},
   "outputs": [
    {
     "name": "stdout",
     "output_type": "stream",
     "text": [
      "On a ajouté du texte ici !\n",
      "On a ajouté la ligne 2 ici\n",
      "On a ajouté la ligne 3 ici\n",
      "On a ajouté la ligne 4 ici\n",
      "On a ajouté la ligne 5 ici\n",
      "On a ajouté la ligne 6 ici\n",
      "\n"
     ]
    }
   ],
   "source": [
    "# Ecriture dans le fichier avec l'option 'a' = 'append'\n",
    "f = open(path_name + '/' + file_name, 'a')\n",
    "for iCpt in range(5):\n",
    "    f.write(\"On a ajouté la ligne \" + str(iCpt+2) + \" ici\\n\")\n",
    "f.close()\n",
    "\n",
    "# Lecture du fichier\n",
    "f = open(path_name + '/' + file_name, 'r')\n",
    "print(f.read())"
   ]
  },
  {
   "cell_type": "markdown",
   "metadata": {},
   "source": [
    "<i>Import de CSV</i>"
   ]
  },
  {
   "cell_type": "code",
   "execution_count": 2,
   "metadata": {},
   "outputs": [
    {
     "name": "stdout",
     "output_type": "stream",
     "text": [
      "['Nom', 'Prenom', 'De', 'Age', 'Session 1', 'Session 2', 'Session 3 ', 'Session 4', 'Session 5']\n",
      "['BASSALAH', 'Mehdi', 'ADNEOM FR', '', '', '', '', '', '']\n",
      "['AKHERRAZ', 'Faysal', 'Bgfi', '', '', '', '', '', '']\n",
      "['CHKALATE', 'Abdelali', 'Bgfi', '', '', '', '', '', '']\n",
      "['MHAMED', 'Ala Eddine', 'Bgfi', '', '', '', '', '', '']\n",
      "['TANNEAU', 'Christophe', 'Bgfi', '', '', '', '', '', '']\n",
      "['THAMINE', 'Sarra', 'Bgfi', '', '', '', '', '', '']\n",
      "['LAMCHARFI', 'Marwa', 'Bgfi', '', '', '', '', '', '']\n",
      "['AISSA', 'Wiem', 'Bgfi', '', '', '', '', '', '']\n",
      "['EL FEHEM', 'Ines', 'Bgfi', '', '', '', '', '', '']\n",
      "['EL HAJIBI', 'Hicham', 'Bgfi', '', '', '', '', '', '']\n",
      "['SAIDOUN', 'Yasmine', 'ADNEOM FR', '', '', '', '', '', '']\n"
     ]
    }
   ],
   "source": [
    "import csv\n",
    "\n",
    "path_name = \"../Data\"\n",
    "file_name = \"exemple.csv\"\n",
    "with open(path_name + '/' + file_name, newline='', encoding='utf-8-sig') as csvfile:\n",
    "    contacts_reader = csv.reader(csvfile, delimiter=';', quotechar='\"')\n",
    "    for line in contacts_reader:\n",
    "        print(line)"
   ]
  },
  {
   "cell_type": "markdown",
   "metadata": {},
   "source": [
    "<hr size=\"30\">\n",
    "<font size=\"5\"><u>NumPy</u></font><br /><br />\n",
    "\n",
    "Wikipedia : <i>NumPy est une extension du langage de programmation Python, destinée à manipuler des matrices ou tableaux multidimensionnels ainsi que des fonctions mathématiques opérant sur ces tableaux.\n",
    "\n",
    "Plus précisément, cette bibliothèque logicielle libre et open source fournit de multiples fonctions permettant notamment de créer directement un tableau depuis un fichier ou au contraire de sauvegarder un tableau dans un fichier, et manipuler des vecteurs, matrices et polynômes.\n",
    "\n",
    "NumPy est la base de SciPy, regroupement de bibliothèques Python autour du calcul scientifique. </i>"
   ]
  },
  {
   "cell_type": "code",
   "execution_count": 29,
   "metadata": {},
   "outputs": [],
   "source": [
    "import numpy as np\n",
    "\n",
    "np.random.seed(0)  # graine constante pour assurer la reproductibilité des résultats\n",
    "\n",
    "x1 = np.random.randint(10, size=6)  # 1D array\n",
    "x2 = np.random.randint(10, size=(3, 4))  # 2D array\n",
    "x3 = np.random.randint(10, size=(3, 4, 5))  # 3D array"
   ]
  },
  {
   "cell_type": "code",
   "execution_count": 30,
   "metadata": {},
   "outputs": [
    {
     "name": "stdout",
     "output_type": "stream",
     "text": [
      "[5 0 3 3 7 9]\n"
     ]
    }
   ],
   "source": [
    "print(x1)"
   ]
  },
  {
   "cell_type": "code",
   "execution_count": 31,
   "metadata": {},
   "outputs": [
    {
     "name": "stdout",
     "output_type": "stream",
     "text": [
      "[[3 5 2 4]\n",
      " [7 6 8 8]\n",
      " [1 6 7 7]]\n"
     ]
    }
   ],
   "source": [
    "print(x2)"
   ]
  },
  {
   "cell_type": "code",
   "execution_count": 32,
   "metadata": {},
   "outputs": [
    {
     "name": "stdout",
     "output_type": "stream",
     "text": [
      "[[[8 1 5 9 8]\n",
      "  [9 4 3 0 3]\n",
      "  [5 0 2 3 8]\n",
      "  [1 3 3 3 7]]\n",
      "\n",
      " [[0 1 9 9 0]\n",
      "  [4 7 3 2 7]\n",
      "  [2 0 0 4 5]\n",
      "  [5 6 8 4 1]]\n",
      "\n",
      " [[4 9 8 1 1]\n",
      "  [7 9 9 3 6]\n",
      "  [7 2 0 3 5]\n",
      "  [9 4 4 6 4]]]\n"
     ]
    }
   ],
   "source": [
    "print(x3)"
   ]
  },
  {
   "cell_type": "code",
   "execution_count": 33,
   "metadata": {},
   "outputs": [
    {
     "name": "stdout",
     "output_type": "stream",
     "text": [
      "Nombre de dimensions de x3 : 3\n",
      "Taille de chaque dimension : (3, 4, 5)\n",
      "Nombre d'éléments au total : 60\n"
     ]
    }
   ],
   "source": [
    "print(\"Nombre de dimensions de x3 :\", x3.ndim)\n",
    "print(\"Taille de chaque dimension :\", x3.shape)\n",
    "print(\"Nombre d'éléments au total :\", x3.size)"
   ]
  },
  {
   "cell_type": "code",
   "execution_count": null,
   "metadata": {},
   "outputs": [],
   "source": [
    "x2[0, 3]"
   ]
  },
  {
   "cell_type": "code",
   "execution_count": null,
   "metadata": {},
   "outputs": [],
   "source": [
    "x2[0][:3]"
   ]
  },
  {
   "cell_type": "code",
   "execution_count": null,
   "metadata": {},
   "outputs": [],
   "source": [
    "print(x1[1::2])"
   ]
  },
  {
   "cell_type": "code",
   "execution_count": null,
   "metadata": {},
   "outputs": [],
   "source": [
    "x2_sub = x2[:2, :3]\n",
    "print(x2_sub)"
   ]
  },
  {
   "cell_type": "code",
   "execution_count": null,
   "metadata": {},
   "outputs": [],
   "source": [
    "x2_sub[0, 0] = -10\n",
    "print(x2)"
   ]
  },
  {
   "cell_type": "code",
   "execution_count": null,
   "metadata": {},
   "outputs": [],
   "source": [
    "x2_copy = x2[:2, :3].copy()\n",
    "x2_copy[0, 0] = -20\n",
    "print(x2)"
   ]
  },
  {
   "cell_type": "markdown",
   "metadata": {},
   "source": [
    "<hr size=\"30\">\n",
    "<font size=\"5\"><u>Matplotlib</u></font><br /><br />\n",
    "\n",
    "Wikipedia : <i>Matplotlib est une bibliothèque du langage de programmation Python destinée à tracer et visualiser des données sous formes de graphiques. Elle peut être combinée avec les bibliothèques python de calcul scientifique NumPy et SciPy. Matplotlib est distribuée librement et gratuitement sous une licence de style BSD.</i>"
   ]
  },
  {
   "cell_type": "code",
   "execution_count": 35,
   "metadata": {},
   "outputs": [
    {
     "data": {
      "image/png": "[encoded data removed]",
      "text/plain": [
       "<Figure size 432x288 with 1 Axes>"
      ]
     },
     "metadata": {
      "needs_background": "light"
     },
     "output_type": "display_data"
    }
   ],
   "source": [
    "import matplotlib.pyplot as plt\n",
    "import numpy as np\n",
    "\n",
    "# Data for plotting\n",
    "t = np.arange(0.0, 2.0, 0.01)\n",
    "s = 1 + np.sin(2 * np.pi * t)\n",
    "\n",
    "fig, ax = plt.subplots()\n",
    "ax.plot(t, s)\n",
    "\n",
    "ax.set(xlabel='time (s)', ylabel='voltage (mV)',\n",
    "       title='About as simple as it gets, folks')\n",
    "ax.grid()\n",
    "\n",
    "fig.savefig(\"test.png\")\n",
    "plt.show()"
   ]
  },
  {
   "cell_type": "code",
   "execution_count": 37,
   "metadata": {},
   "outputs": [],
   "source": [
    "import numpy as np\n",
    "import matplotlib.pyplot as plt\n",
    "\n",
    "def survey(results, category_names):\n",
    "    \"\"\"\n",
    "    Parameters\n",
    "    ----------\n",
    "    results : dict\n",
    "        A mapping from question labels to a list of answers per category.\n",
    "        It is assumed all lists contain the same number of entries and that\n",
    "        it matches the length of *category_names*.\n",
    "    category_names : list of str\n",
    "        The category labels.\n",
    "    \"\"\"\n",
    "    labels = list(results.keys())\n",
    "    data = np.array(list(results.values()))\n",
    "    data_cum = data.cumsum(axis=1)\n",
    "    category_colors = plt.get_cmap('RdYlGn')(\n",
    "        np.linspace(0.15, 0.85, data.shape[1]))\n",
    "\n",
    "    fig, ax = plt.subplots(figsize=(9.2, 5))\n",
    "    ax.invert_yaxis()\n",
    "    ax.xaxis.set_visible(False)\n",
    "    ax.set_xlim(0, np.sum(data, axis=1).max())\n",
    "\n",
    "    for i, (colname, color) in enumerate(zip(category_names, category_colors)):\n",
    "        widths = data[:, i]\n",
    "        starts = data_cum[:, i] - widths\n",
    "        ax.barh(labels, widths, left=starts, height=0.5,\n",
    "                label=colname, color=color)\n",
    "        xcenters = starts + widths / 2\n",
    "\n",
    "        r, g, b, _ = color\n",
    "        text_color = 'white' if r * g * b < 0.5 else 'darkgrey'\n",
    "        for y, (x, c) in enumerate(zip(xcenters, widths)):\n",
    "            ax.text(x, y, str(int(c)), ha='center', va='center',\n",
    "                    color=text_color)\n",
    "    ax.legend(ncol=len(category_names), bbox_to_anchor=(0, 1),\n",
    "              loc='lower left', fontsize='small')\n",
    "\n",
    "    return fig, ax"
   ]
  },
  {
   "cell_type": "code",
   "execution_count": 38,
   "metadata": {},
   "outputs": [
    {
     "data": {
      "image/png": "[encoded data removed]",
      "text/plain": [
       "<Figure size 662.4x360 with 1 Axes>"
      ]
     },
     "metadata": {
      "needs_background": "light"
     },
     "output_type": "display_data"
    }
   ],
   "source": [
    "category_names = ['Strongly disagree', 'Disagree',\n",
    "                  'Neither agree nor disagree', 'Agree', 'Strongly agree']\n",
    "results = {\n",
    "    'Question 1': [10, 15, 17, 32, 26],\n",
    "    'Question 2': [26, 22, 29, 10, 13],\n",
    "    'Question 3': [35, 37, 7, 2, 19],\n",
    "    'Question 4': [32, 11, 9, 15, 33],\n",
    "    'Question 5': [21, 29, 5, 5, 40],\n",
    "    'Question 6': [8, 19, 5, 30, 38]\n",
    "}\n",
    "\n",
    "_, _ = survey(results, category_names)"
   ]
  },
  {
   "cell_type": "code",
   "execution_count": 39,
   "metadata": {},
   "outputs": [
    {
     "data": {
      "image/png": "[encoded data removed]",
      "text/plain": [
       "<Figure size 576x576 with 3 Axes>"
      ]
     },
     "metadata": {
      "needs_background": "light"
     },
     "output_type": "display_data"
    }
   ],
   "source": [
    "import matplotlib.pyplot as plt\n",
    "import numpy as np\n",
    "\n",
    "np.random.seed(19680801)\n",
    "\n",
    "# the random data\n",
    "x = np.random.randn(1000)\n",
    "y = np.random.randn(1000)\n",
    "\n",
    "# definitions for the axes\n",
    "left, width = 0.1, 0.65\n",
    "bottom, height = 0.1, 0.65\n",
    "spacing = 0.005\n",
    "\n",
    "\n",
    "rect_scatter = [left, bottom, width, height]\n",
    "rect_histx = [left, bottom + height + spacing, width, 0.2]\n",
    "rect_histy = [left + width + spacing, bottom, 0.2, height]\n",
    "\n",
    "# start with a rectangular Figure\n",
    "plt.figure(figsize=(8, 8))\n",
    "\n",
    "ax_scatter = plt.axes(rect_scatter)\n",
    "ax_scatter.tick_params(direction='in', top=True, right=True)\n",
    "ax_histx = plt.axes(rect_histx)\n",
    "ax_histx.tick_params(direction='in', labelbottom=False)\n",
    "ax_histy = plt.axes(rect_histy)\n",
    "ax_histy.tick_params(direction='in', labelleft=False)\n",
    "\n",
    "# the scatter plot:\n",
    "ax_scatter.scatter(x, y)\n",
    "\n",
    "# now determine nice limits by hand:\n",
    "binwidth = 0.25\n",
    "lim = np.ceil(np.abs([x, y]).max() / binwidth) * binwidth\n",
    "ax_scatter.set_xlim((-lim, lim))\n",
    "ax_scatter.set_ylim((-lim, lim))\n",
    "\n",
    "bins = np.arange(-lim, lim + binwidth, binwidth)\n",
    "ax_histx.hist(x, bins=bins)\n",
    "ax_histy.hist(y, bins=bins, orientation='horizontal')\n",
    "\n",
    "ax_histx.set_xlim(ax_scatter.get_xlim())\n",
    "ax_histy.set_ylim(ax_scatter.get_ylim())\n",
    "\n",
    "plt.show()"
   ]
  }
 ],
 "metadata": {
  "celltoolbar": "Format de la Cellule Texte Brut",
  "kernelspec": {
   "display_name": "Python 3",
   "language": "python",
   "name": "python3"
  },
  "language_info": {
   "codemirror_mode": {
    "name": "ipython",
    "version": 3
   },
   "file_extension": ".py",
   "mimetype": "text/x-python",
   "name": "python",
   "nbconvert_exporter": "python",
   "pygments_lexer": "ipython3",
   "version": "3.7.3"
  }
 },
 "nbformat": 4,
 "nbformat_minor": 2
}
