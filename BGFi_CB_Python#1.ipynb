{
 "cells": [
  {
   "cell_type": "markdown",
   "metadata": {},
   "source": [
    "<font size=\"6\"><strong>Career Booster Python & Data Science</font></strong><br /><br />\n",
    "<font size=\"6\">Session 1</font><br /><br />\n",
    "Lundi 7 octobre 2019 <br /><br />"
   ]
  },
  {
   "cell_type": "markdown",
   "metadata": {},
   "source": [
    "<font size=\"5\"><u>Description</u></font><br /><br />\n",
    "\n",
    "Wikipedia : <i>\n",
    "Python est un langage de programmation interprété, multi-paradigme et multiplateformes. Il favorise la programmation impérative structurée, fonctionnelle et orientée objet. Il est doté d'un typage dynamique fort, d'une gestion automatique de la mémoire par ramasse-miettes et d'un système de gestion d'exceptions ; il est ainsi similaire à Perl, Ruby, Scheme, Smalltalk et Tcl.\n",
    "\n",
    "Le langage Python est placé sous une licence libre proche de la licence BSD10 et fonctionne sur la plupart des plates-formes informatiques, des smartphones aux ordinateurs centraux11, de Windows à Unix avec notamment GNU/Linux en passant par macOS, ou encore Android, iOS, et peut aussi être traduit en Java ou .NET. Il est conçu pour optimiser la productivité des programmeurs en offrant des outils de haut niveau et une syntaxe simple à utiliser. </i>"
   ]
  },
  {
   "cell_type": "markdown",
   "metadata": {},
   "source": [
    "<hr size=\"30\">\n",
    "<font size=\"5\"><u>Introduction</u></font><br/><br/>\n",
    "\n",
    "<i>Variables :</i>"
   ]
  },
  {
   "cell_type": "code",
   "execution_count": 1,
   "metadata": {},
   "outputs": [
    {
     "name": "stdout",
     "output_type": "stream",
     "text": [
      "3\n"
     ]
    }
   ],
   "source": [
    "a = 3\n",
    "print(a)"
   ]
  },
  {
   "cell_type": "code",
   "execution_count": 2,
   "metadata": {},
   "outputs": [
    {
     "name": "stdout",
     "output_type": "stream",
     "text": [
      "2\n"
     ]
    }
   ],
   "source": [
    "b = a - 1\n",
    "print(b)"
   ]
  },
  {
   "cell_type": "code",
   "execution_count": 3,
   "metadata": {},
   "outputs": [
    {
     "name": "stdout",
     "output_type": "stream",
     "text": [
      "[1, 3, -3.12, 'BGFi', [-2, 4]]\n",
      "1\n",
      "[-2, 4]\n"
     ]
    }
   ],
   "source": [
    "c = [1, a, -3.12, 'BGFi', [-b, 4]]\n",
    "print(c)\n",
    "print(c[0])\n",
    "print(c[-1])"
   ]
  },
  {
   "cell_type": "markdown",
   "metadata": {},
   "source": [
    "<i><u>Chaînes de caractères</u></i><br/>\n",
    "Les chaînes des caractères sont également des objets. Ainsi, de nombreuses fonctions sont disponibles par défaut dès lors qu'un tel type de variable est créé."
   ]
  },
  {
   "cell_type": "code",
   "execution_count": 4,
   "metadata": {},
   "outputs": [
    {
     "name": "stdout",
     "output_type": "stream",
     "text": [
      "Bienvenue au Career Booster !!!!!\n"
     ]
    }
   ],
   "source": [
    "a = \"au \"\n",
    "b = \"Career\"\n",
    "c = \"Booster\"\n",
    "d = \"!\"*5  # nous multiplions un caractère par 5 !\n",
    "print(\"Bienvenue \" + a + \"{} {}\".format(b, c) + \" \" + d)"
   ]
  },
  {
   "cell_type": "code",
   "execution_count": 58,
   "metadata": {},
   "outputs": [
    {
     "data": {
      "text/plain": [
       "'Bienvenue au career booster !'"
      ]
     },
     "execution_count": 58,
     "metadata": {},
     "output_type": "execute_result"
    }
   ],
   "source": [
    "phrase = \"bienvenue au CarEEr Booster !\"\n",
    "phrase.capitalize()"
   ]
  },
  {
   "cell_type": "code",
   "execution_count": 6,
   "metadata": {},
   "outputs": [
    {
     "data": {
      "text/plain": [
       "True"
      ]
     },
     "execution_count": 6,
     "metadata": {},
     "output_type": "execute_result"
    }
   ],
   "source": [
    "phrase.endswith('Booster !')"
   ]
  },
  {
   "cell_type": "code",
   "execution_count": 7,
   "metadata": {},
   "outputs": [
    {
     "data": {
      "text/plain": [
       "20"
      ]
     },
     "execution_count": 7,
     "metadata": {},
     "output_type": "execute_result"
    }
   ],
   "source": [
    "phrase.find('Boo')"
   ]
  },
  {
   "cell_type": "markdown",
   "metadata": {},
   "source": [
    "<i>Comment insérer un espace entre chaque élément d'une liste de mots ?</i>"
   ]
  },
  {
   "cell_type": "code",
   "execution_count": 123,
   "metadata": {},
   "outputs": [
    {
     "name": "stdout",
     "output_type": "stream",
     "text": [
      "Bienvenue au Career Booster !!!!!\n"
     ]
    }
   ],
   "source": [
    "tuple_mots = (\"Bienvenue\", \"au\", \"Career\", \"Booster\", \"!!!!!\")\n",
    "# Tout simplement en appelant la fonction join() \n",
    "# à partir du caractère ou de la chaîne de caractère que l'on souhaite insérer (un espace ici)\n",
    "phrase = \" \".join(tuple_mots)\n",
    "print(phrase)"
   ]
  },
  {
   "cell_type": "code",
   "execution_count": 125,
   "metadata": {},
   "outputs": [
    {
     "name": "stdout",
     "output_type": "stream",
     "text": [
      "Bienvenuecoucou aucoucou Careercoucou Boostercoucou !!!!!\n"
     ]
    }
   ],
   "source": [
    "phrase = \"coucou \".join(tuple_mots)\n",
    "print(phrase)"
   ]
  },
  {
   "cell_type": "markdown",
   "metadata": {},
   "source": [
    "<i><u>Listes</u></i><br/>\n",
    "Il est possible de mettre ce qu'on veut dans une liste, peu importe le type ou la taille !<br/>\n",
    "Par exemple, ci-dessous, le quatrième élément de la liste (l[3]) est une fonction !"
   ]
  },
  {
   "cell_type": "code",
   "execution_count": 9,
   "metadata": {},
   "outputs": [
    {
     "name": "stdout",
     "output_type": "stream",
     "text": [
      "[3, 1, 'Bonjour', <built-in function max>, -269]\n"
     ]
    }
   ],
   "source": [
    "l = [3, 1, 'Bonjour', max, 31-300]\n",
    "print(l)"
   ]
  },
  {
   "cell_type": "code",
   "execution_count": 10,
   "metadata": {},
   "outputs": [
    {
     "data": {
      "text/plain": [
       "3"
      ]
     },
     "execution_count": 10,
     "metadata": {},
     "output_type": "execute_result"
    }
   ],
   "source": [
    "l[-2]([1, 2, 3, 0]) # l[-2] désigne l'avant-dernier élément de la liste, i.e. la fonction 'max' ici"
   ]
  },
  {
   "cell_type": "code",
   "execution_count": 126,
   "metadata": {},
   "outputs": [
    {
     "name": "stdout",
     "output_type": "stream",
     "text": [
      "[0]\n",
      "[0, 1]\n",
      "[0, 1, 2]\n",
      "[0, 1, 2, 3]\n",
      "[0, 1, 2, 3, 4]\n",
      "[0, 1, 2, 3, 4, 5]\n",
      "[0, 1, 2, 3, 4, 5, 6]\n",
      "[0, 1, 2, 3, 4, 5, 6, 7]\n",
      "[0, 1, 2, 3, 4, 5, 6, 7, 8]\n",
      "[0, 1, 2, 3, 4, 5, 6, 7, 8, 9]\n"
     ]
    }
   ],
   "source": [
    "l = [] # on peut également écrire l = list()\n",
    "for iIter in range(10):\n",
    "    l.append(iIter) # la fonction 'append' permet d'ajouter des éléments à la fin\n",
    "    print(l)"
   ]
  },
  {
   "cell_type": "code",
   "execution_count": 61,
   "metadata": {},
   "outputs": [
    {
     "name": "stdout",
     "output_type": "stream",
     "text": [
      "[0, 1, 2, 3, 4, 5, 6, 7, 8]\n"
     ]
    }
   ],
   "source": [
    "l.pop() # retire le dernier élément d'une liste\n",
    "print(l)"
   ]
  },
  {
   "cell_type": "code",
   "execution_count": 128,
   "metadata": {},
   "outputs": [
    {
     "name": "stdout",
     "output_type": "stream",
     "text": [
      "un\n",
      "deux\n",
      "trois\n",
      "...\n"
     ]
    },
    {
     "ename": "StopIteration",
     "evalue": "",
     "output_type": "error",
     "traceback": [
      "\u001b[0;31m---------------------------------------------------------------------------\u001b[0m",
      "\u001b[0;31mStopIteration\u001b[0m                             Traceback (most recent call last)",
      "\u001b[0;32m<ipython-input-128-47313b66b0d0>\u001b[0m in \u001b[0;36m<module>\u001b[0;34m\u001b[0m\n\u001b[1;32m      5\u001b[0m \u001b[0mprint\u001b[0m\u001b[0;34m(\u001b[0m\u001b[0mnext\u001b[0m\u001b[0;34m(\u001b[0m\u001b[0mit\u001b[0m\u001b[0;34m)\u001b[0m\u001b[0;34m)\u001b[0m \u001b[0;31m# sort l'élément 3\u001b[0m\u001b[0;34m\u001b[0m\u001b[0;34m\u001b[0m\u001b[0m\n\u001b[1;32m      6\u001b[0m \u001b[0mprint\u001b[0m\u001b[0;34m(\u001b[0m\u001b[0;34m'...'\u001b[0m\u001b[0;34m)\u001b[0m\u001b[0;34m\u001b[0m\u001b[0;34m\u001b[0m\u001b[0m\n\u001b[0;32m----> 7\u001b[0;31m \u001b[0mprint\u001b[0m\u001b[0;34m(\u001b[0m\u001b[0mnext\u001b[0m\u001b[0;34m(\u001b[0m\u001b[0mit\u001b[0m\u001b[0;34m)\u001b[0m\u001b[0;34m)\u001b[0m \u001b[0;31m# sort l'élément 4... qui n'existe pas...\u001b[0m\u001b[0;34m\u001b[0m\u001b[0;34m\u001b[0m\u001b[0m\n\u001b[0m",
      "\u001b[0;31mStopIteration\u001b[0m: "
     ]
    }
   ],
   "source": [
    "t = ('un', 'deux', 'trois')\n",
    "it = iter(t) # un itérateur\n",
    "print(next(it)) # sort l'élément 1\n",
    "print(next(it)) # sort l'élément 2\n",
    "print(next(it)) # sort l'élément 3\n",
    "print('...')\n",
    "print(next(it)) # sort l'élément 4... qui n'existe pas..."
   ]
  },
  {
   "cell_type": "markdown",
   "metadata": {},
   "source": [
    "<font size=\"5\"><u>Les dictionnaires</u></font><br /><br />\n",
    "\n",
    "Les dictionnaires sont un format de données très \"pythoniques\".<br />\n",
    "Il d'agit d'un \"objet conteneur\" (comme les listes) mais n'ayant pas de structure ordonnée.<br />"
   ]
  },
  {
   "cell_type": "code",
   "execution_count": 69,
   "metadata": {},
   "outputs": [],
   "source": [
    "capitals = {} # capitals = dict()\n",
    "capitals['Japon'] = 'Tokyo'\n",
    "capitals['Argentine'] = 'Buenos Aires'\n",
    "capitals['France'] = 'Paris'"
   ]
  },
  {
   "cell_type": "code",
   "execution_count": 70,
   "metadata": {},
   "outputs": [
    {
     "data": {
      "text/plain": [
       "{'Japon': 'Tokyo', 'Argentine': 'Buenos Aires', 'France': 'Paris'}"
      ]
     },
     "execution_count": 70,
     "metadata": {},
     "output_type": "execute_result"
    }
   ],
   "source": [
    "capitals"
   ]
  },
  {
   "cell_type": "markdown",
   "metadata": {},
   "source": [
    "Pour accéder à un élément d'un dictionnaire, on se sert de <i>clefs.</i>"
   ]
  },
  {
   "cell_type": "code",
   "execution_count": 71,
   "metadata": {},
   "outputs": [
    {
     "data": {
      "text/plain": [
       "'Buenos Aires'"
      ]
     },
     "execution_count": 71,
     "metadata": {},
     "output_type": "execute_result"
    }
   ],
   "source": [
    "capitals['Argentine']"
   ]
  },
  {
   "cell_type": "code",
   "execution_count": 72,
   "metadata": {},
   "outputs": [
    {
     "name": "stdout",
     "output_type": "stream",
     "text": [
      "dict_keys(['Japon', 'Argentine', 'France'])\n",
      "dict_values(['Tokyo', 'Buenos Aires', 'Paris'])\n",
      "dict_items([('Japon', 'Tokyo'), ('Argentine', 'Buenos Aires'), ('France', 'Paris')])\n"
     ]
    }
   ],
   "source": [
    "print(capitals.keys())\n",
    "print(capitals.values())\n",
    "print(capitals.items())"
   ]
  },
  {
   "cell_type": "code",
   "execution_count": null,
   "metadata": {},
   "outputs": [],
   "source": [
    "capitals.clear()"
   ]
  },
  {
   "cell_type": "markdown",
   "metadata": {},
   "source": [
    "<font size=\"5\"><u>Les boucles</u></font><br /><br />"
   ]
  },
  {
   "cell_type": "code",
   "execution_count": 73,
   "metadata": {},
   "outputs": [
    {
     "name": "stdout",
     "output_type": "stream",
     "text": [
      "0\n",
      "1\n",
      "2\n",
      "3\n",
      "4\n",
      "5\n",
      "6\n",
      "7\n",
      "8\n",
      "9\n"
     ]
    }
   ],
   "source": [
    "for iIter in range(0, 10):\n",
    "    print(iIter)"
   ]
  },
  {
   "cell_type": "code",
   "execution_count": 74,
   "metadata": {},
   "outputs": [
    {
     "name": "stdout",
     "output_type": "stream",
     "text": [
      "0\n",
      "2\n",
      "4\n",
      "5\n",
      "6\n",
      "-3\n"
     ]
    }
   ],
   "source": [
    "values = [0, 2, 4, 5, 6, -3]\n",
    "for iValue in values:\n",
    "    print(iValue)"
   ]
  },
  {
   "cell_type": "code",
   "execution_count": 75,
   "metadata": {},
   "outputs": [
    {
     "name": "stdout",
     "output_type": "stream",
     "text": [
      "0 0\n",
      "1 2\n",
      "2 4\n",
      "3 5\n",
      "4 6\n",
      "5 -3\n"
     ]
    }
   ],
   "source": [
    "for iCpt, iValue in enumerate(values):\n",
    "    print(iCpt, iValue)"
   ]
  },
  {
   "cell_type": "code",
   "execution_count": 76,
   "metadata": {},
   "outputs": [
    {
     "name": "stdout",
     "output_type": "stream",
     "text": [
      "[0, 4, 8, 10, 12, -6]\n"
     ]
    }
   ],
   "source": [
    "values = [0, 2, 4, 5, 6, -3]\n",
    "new_values = [iValue * 2 for iValue in values] # list comprehension\n",
    "print(new_values)"
   ]
  },
  {
   "cell_type": "markdown",
   "metadata": {},
   "source": [
    "<i>Boucles \"while\"</i>"
   ]
  },
  {
   "cell_type": "code",
   "execution_count": null,
   "metadata": {},
   "outputs": [],
   "source": [
    "cpt = 1\n",
    "limit = 3\n",
    "while cpt < 6:\n",
    "  print(cpt)\n",
    "  if cpt == limit:\n",
    "    break\n",
    "  cpt += 1"
   ]
  },
  {
   "cell_type": "markdown",
   "metadata": {},
   "source": [
    "<hr size=\"30\">\n",
    "<font size=\"5\"><u>If / Else</u></font><br /><br />\n",
    "\n",
    "Effectuer une opération <i>sous condition</i> est une étape indispensable lorsque l'on crée un programme.<br />\n",
    "En Python, la démarche est très simple :"
   ]
  },
  {
   "cell_type": "code",
   "execution_count": null,
   "metadata": {},
   "outputs": [],
   "source": [
    "value = 0\n",
    "if value > 0:\n",
    "    print(\"Value is positive\")\n",
    "elif value == 2:\n",
    "    print(\"Value is negative\")\n",
    "else:\n",
    "    print(\"Value is 0\")"
   ]
  },
  {
   "cell_type": "code",
   "execution_count": 77,
   "metadata": {},
   "outputs": [
    {
     "name": "stdout",
     "output_type": "stream",
     "text": [
      "Good choice\n"
     ]
    }
   ],
   "source": [
    "mot = \"analytics\"\n",
    "if mot == \"analytics\":\n",
    "    print(\"Good choice\")"
   ]
  },
  {
   "cell_type": "code",
   "execution_count": 78,
   "metadata": {},
   "outputs": [
    {
     "name": "stdout",
     "output_type": "stream",
     "text": [
      "Nerd.\n"
     ]
    }
   ],
   "source": [
    "prénom = \"Jack\"\n",
    "nom = \"Sparrow\"\n",
    "if prénom == \"Jack\" and nom == \"Sparrow\":\n",
    "    print(\"Nerd.\")"
   ]
  },
  {
   "cell_type": "code",
   "execution_count": 79,
   "metadata": {},
   "outputs": [
    {
     "name": "stdout",
     "output_type": "stream",
     "text": [
      "Very Nerd.\n"
     ]
    }
   ],
   "source": [
    "prénom = \"Jack\"\n",
    "nom = \"Sparrow\"\n",
    "if prénom.lower() == \"jean\" or prénom.lower() == \"jack\":\n",
    "    print(\"Very Nerd.\")"
   ]
  },
  {
   "cell_type": "code",
   "execution_count": 80,
   "metadata": {},
   "outputs": [
    {
     "data": {
      "text/plain": [
       "False"
      ]
     },
     "execution_count": 80,
     "metadata": {},
     "output_type": "execute_result"
    }
   ],
   "source": [
    "(3 < 5 and \"BGFi\" == \"analytics\")"
   ]
  },
  {
   "cell_type": "code",
   "execution_count": 81,
   "metadata": {},
   "outputs": [
    {
     "data": {
      "text/plain": [
       "True"
      ]
     },
     "execution_count": 81,
     "metadata": {},
     "output_type": "execute_result"
    }
   ],
   "source": [
    "not(3 < 5 and \"BGFi\" == \"analytics\")"
   ]
  },
  {
   "cell_type": "code",
   "execution_count": 82,
   "metadata": {},
   "outputs": [
    {
     "data": {
      "text/plain": [
       "True"
      ]
     },
     "execution_count": 82,
     "metadata": {},
     "output_type": "execute_result"
    }
   ],
   "source": [
    "(3 < 5 and \"BGFi\" != \"analytics\")"
   ]
  },
  {
   "cell_type": "code",
   "execution_count": 86,
   "metadata": {},
   "outputs": [
    {
     "name": "stdout",
     "output_type": "stream",
     "text": [
      "[6, 8]\n",
      "[6, 8]\n"
     ]
    }
   ],
   "source": [
    "countries = ['France', 'Belgique', 'Luxembourg', 'Finlande']\n",
    "# Au lieu de :\n",
    "values = []\n",
    "for iCountry in countries:\n",
    "    if iCountry[0].lower() == 'f':\n",
    "        values.append(len(iCountry))\n",
    "print(values)\n",
    "\n",
    "# On peut faire ça\n",
    "values = [len(iCountry) for iCountry in countries if iCountry[0].lower() == 'f']\n",
    "print(values)"
   ]
  },
  {
   "cell_type": "markdown",
   "metadata": {},
   "source": [
    "<hr size=\"30\">\n",
    "<font size=\"5\"><u>Les modules & bibliothèques/packages</u></font><br /><br />\n",
    "Les modules sont des briques fonctionnelles contenant du code exécutable. Il s'agit simplement de fichiers .py<br />\n",
    "Une <i>bibliothèque</i>, ou <i>package</i> est un ensemble de modules. Il s'agit basiquement d'un dossier contenant plusieurs fichiers .py. \n",
    "Beaucoup de fonctionnalités sont apportés par les <b>bibliothèques</b> (<i>libraries</i>).<br />\n",
    "Par exemple, pour obtenir une liste des fichiers présents dans un répertoire :"
   ]
  },
  {
   "cell_type": "code",
   "execution_count": 87,
   "metadata": {},
   "outputs": [
    {
     "name": "stdout",
     "output_type": "stream",
     "text": [
      "['Init', 'Tools', 'Plot', 'Art', 'Img', 'GUI', 'startHTM_simulation.m', 'Sources', 'draft.m', 'KnowledgeSources']\n"
     ]
    }
   ],
   "source": [
    "import os  # os est un package\n",
    "dirs = os.listdir(\"/Users/bcl/SciWork/dev/HTM_v2\")  # la fonction listdir est un module\n",
    "print(dirs)"
   ]
  },
  {
   "cell_type": "markdown",
   "metadata": {},
   "source": [
    "Dans le cadre d'une analyse de données que nous souhaitons <b>anonymiser</b>, il est courant d'assigner un ID de 32 caractères aléatoires en hexadécimal. <br />\n",
    "Nous pouvons alors le faire de plusieurs manières.<br />\n",
    "<i>Première méthode</i> :"
   ]
  },
  {
   "cell_type": "code",
   "execution_count": 93,
   "metadata": {},
   "outputs": [
    {
     "data": {
      "text/plain": [
       "'fe5d70d3fd8bc00b991474f79c2a875b'"
      ]
     },
     "execution_count": 93,
     "metadata": {},
     "output_type": "execute_result"
    }
   ],
   "source": [
    "import numpy\n",
    "\n",
    "def createUUID(nb=32):\n",
    "    letters = ['a', 'b', 'c', 'd', 'e', 'f']\n",
    "    unique_id = ''\n",
    "    for iPos in range(0, nb):  # 'for iPos in range(32)' marche aussi\n",
    "        # lettre ou chiffre ?\n",
    "        if numpy.random.rand() > 0.5:  # lettre\n",
    "            letter = numpy.random.randint(6)\n",
    "            unique_id += letters[letter]\n",
    "        else:  # chiffre\n",
    "            number = str(numpy.random.randint(10))\n",
    "            unique_id += number\n",
    "    return unique_id\n",
    "\n",
    "createUUID()"
   ]
  },
  {
   "cell_type": "markdown",
   "metadata": {},
   "source": [
    "<i>Deuxième méthode</i> :"
   ]
  },
  {
   "cell_type": "code",
   "execution_count": 89,
   "metadata": {},
   "outputs": [
    {
     "name": "stdout",
     "output_type": "stream",
     "text": [
      "ded4984308f84029a70e5c0599cabfc7\n"
     ]
    }
   ],
   "source": [
    "import uuid\n",
    "unique_id = uuid.uuid4().hex\n",
    "print(unique_id)"
   ]
  },
  {
   "cell_type": "markdown",
   "metadata": {},
   "source": [
    "Globalement, quasiment toutes les fonctionnalités de base sont déjà implémentées et disponibles dans des bibliothèques dédiées.<br />\n",
    "Ainsi, dès lors que vous souhaitez implémenter une fonction qui ne vous semble pas extrêmement spécifique à votre projet, allez tout de suite chercher s'il n'existe pas déjà une bibliothèque déjà existante.<br />\n",
    "<strong>Cela vous fera gagner un temps considérable</strong>"
   ]
  },
  {
   "cell_type": "markdown",
   "metadata": {},
   "source": [
    "<hr size=\"30\">\n",
    "<font size=\"5\"><u>Les fonctions</u></font><br /><br />\n",
    "Comme dans la plupart des langages modernes, il est possible de faire des fonctions permettant de réaliser des suites d'opérations. Python est donc un langage qualifié de <b>fonctionnel</b>.<br />\n",
    "Attention cependant, les bonnes pratiques encouragent de construire son projet avec beaucoup de petites fonctions, plutôt que peu d'énormes fonctions.<br />\n",
    "Il est même vivement recommandé de créer <i>une fonction par opération \"élémentaire\"</i>."
   ]
  },
  {
   "cell_type": "code",
   "execution_count": 96,
   "metadata": {},
   "outputs": [
    {
     "data": {
      "image/png": "[encoded data removed]",
      "text/plain": [
       "<Figure size 432x288 with 1 Axes>"
      ]
     },
     "metadata": {
      "needs_background": "light"
     },
     "output_type": "display_data"
    }
   ],
   "source": [
    "import numpy as np\n",
    "import matplotlib.pyplot as plt\n",
    "\n",
    "def plotRandomData(length_of_data=100):\n",
    "    x = range(length_of_data)\n",
    "    y = np.random.rand(length_of_data)\n",
    "    plt.plot(x, y)\n",
    "    plt.show()\n",
    "\n",
    "plotRandomData()"
   ]
  },
  {
   "cell_type": "code",
   "execution_count": 99,
   "metadata": {},
   "outputs": [
    {
     "data": {
      "image/png": "[encoded data removed]",
      "text/plain": [
       "<Figure size 432x288 with 1 Axes>"
      ]
     },
     "metadata": {
      "needs_background": "light"
     },
     "output_type": "display_data"
    }
   ],
   "source": [
    "plotRandomData(10)"
   ]
  },
  {
   "cell_type": "markdown",
   "metadata": {},
   "source": [
    "<i>Fonctions Lambda</i><br />\n",
    "Les fonctions lambda sont des petites fonctions dites <i>anonymes</i>.<br />\n"
   ]
  },
  {
   "cell_type": "code",
   "execution_count": null,
   "metadata": {},
   "outputs": [],
   "source": [
    "f = lambda a, b : a * b\n",
    "print(f(5, 6)) "
   ]
  },
  {
   "cell_type": "code",
   "execution_count": 100,
   "metadata": {},
   "outputs": [
    {
     "name": "stdout",
     "output_type": "stream",
     "text": [
      "22\n",
      "33\n"
     ]
    }
   ],
   "source": [
    "def myfunc(n):\n",
    "  return lambda a : a * n\n",
    "\n",
    "mydoubler = myfunc(2)\n",
    "mytripler = myfunc(3)\n",
    "\n",
    "print(mydoubler(11))\n",
    "print(mytripler(11))"
   ]
  },
  {
   "cell_type": "markdown",
   "metadata": {},
   "source": [
    "<hr size=\"30\">\n",
    "<font size=\"5\"><u>Les classes</u></font><br /><br />\n",
    "\n",
    "Les classes sont sans doute l'aspect le plus intéressant de la programmation en Python.<br />\n",
    "D'ailleurs, <i>tout est classe, en Python</i><br />\n",
    "Voilà un exemple de classe regroupant une partie des possibilités de la POO en Python."
   ]
  },
  {
   "cell_type": "code",
   "execution_count": 110,
   "metadata": {},
   "outputs": [],
   "source": [
    "import numpy as np\n",
    "from datetime import datetime\n",
    "\n",
    "class Company:\n",
    "    '''\n",
    "        Description : cette classe implémente une entreprise\n",
    "    '''\n",
    "    \n",
    "    def __init__(self, name, number_of_employees):\n",
    "        self.name = name\n",
    "        self.number_of_employees = number_of_employees\n",
    "        self.clients = {}\n",
    "        \n",
    "    def addClient(self, clients, benefits):\n",
    "        for iCpt, iClient in enumerate(clients):\n",
    "            self.clients[iClient] = benefits[iCpt]\n",
    "    \n",
    "    def __add__(self, company):\n",
    "        c = Company(self.name, self.number_of_employees)\n",
    "        c.number_of_employees += company.number_of_employees\n",
    "        return c.number_of_employees\n",
    "    \n",
    "    def __repr__(self):\n",
    "        return self.name"
   ]
  },
  {
   "cell_type": "code",
   "execution_count": 114,
   "metadata": {},
   "outputs": [
    {
     "data": {
      "text/plain": [
       "BGFi"
      ]
     },
     "execution_count": 114,
     "metadata": {},
     "output_type": "execute_result"
    }
   ],
   "source": [
    "c1 = Company('BGFi', 100)\n",
    "c2 = Company('Adneom', 50)\n",
    "c1"
   ]
  },
  {
   "cell_type": "code",
   "execution_count": 104,
   "metadata": {},
   "outputs": [
    {
     "data": {
      "text/plain": [
       "150"
      ]
     },
     "execution_count": 104,
     "metadata": {},
     "output_type": "execute_result"
    }
   ],
   "source": [
    "c2+c1"
   ]
  },
  {
   "cell_type": "code",
   "execution_count": 115,
   "metadata": {},
   "outputs": [
    {
     "ename": "TypeError",
     "evalue": "'int' object is not subscriptable",
     "output_type": "error",
     "traceback": [
      "\u001b[0;31m---------------------------------------------------------------------------\u001b[0m",
      "\u001b[0;31mTypeError\u001b[0m                                 Traceback (most recent call last)",
      "\u001b[0;32m<ipython-input-115-d41cf7e8689b>\u001b[0m in \u001b[0;36m<module>\u001b[0;34m\u001b[0m\n\u001b[0;32m----> 1\u001b[0;31m \u001b[0mc1\u001b[0m\u001b[0;34m.\u001b[0m\u001b[0maddClient\u001b[0m\u001b[0;34m(\u001b[0m\u001b[0;34m'SNCF'\u001b[0m\u001b[0;34m,\u001b[0m \u001b[0;36m1000\u001b[0m\u001b[0;34m)\u001b[0m\u001b[0;34m\u001b[0m\u001b[0;34m\u001b[0m\u001b[0m\n\u001b[0m",
      "\u001b[0;32m<ipython-input-110-3f2754a2e630>\u001b[0m in \u001b[0;36maddClient\u001b[0;34m(self, clients, benefits)\u001b[0m\n\u001b[1;32m     14\u001b[0m     \u001b[0;32mdef\u001b[0m \u001b[0maddClient\u001b[0m\u001b[0;34m(\u001b[0m\u001b[0mself\u001b[0m\u001b[0;34m,\u001b[0m \u001b[0mclients\u001b[0m\u001b[0;34m,\u001b[0m \u001b[0mbenefits\u001b[0m\u001b[0;34m)\u001b[0m\u001b[0;34m:\u001b[0m\u001b[0;34m\u001b[0m\u001b[0;34m\u001b[0m\u001b[0m\n\u001b[1;32m     15\u001b[0m         \u001b[0;32mfor\u001b[0m \u001b[0miCpt\u001b[0m\u001b[0;34m,\u001b[0m \u001b[0miClient\u001b[0m \u001b[0;32min\u001b[0m \u001b[0menumerate\u001b[0m\u001b[0;34m(\u001b[0m\u001b[0mclients\u001b[0m\u001b[0;34m)\u001b[0m\u001b[0;34m:\u001b[0m\u001b[0;34m\u001b[0m\u001b[0;34m\u001b[0m\u001b[0m\n\u001b[0;32m---> 16\u001b[0;31m             \u001b[0mself\u001b[0m\u001b[0;34m.\u001b[0m\u001b[0mclients\u001b[0m\u001b[0;34m[\u001b[0m\u001b[0miClient\u001b[0m\u001b[0;34m]\u001b[0m \u001b[0;34m=\u001b[0m \u001b[0mbenefits\u001b[0m\u001b[0;34m[\u001b[0m\u001b[0miCpt\u001b[0m\u001b[0;34m]\u001b[0m\u001b[0;34m\u001b[0m\u001b[0;34m\u001b[0m\u001b[0m\n\u001b[0m\u001b[1;32m     17\u001b[0m \u001b[0;34m\u001b[0m\u001b[0m\n\u001b[1;32m     18\u001b[0m     \u001b[0;32mdef\u001b[0m \u001b[0m__add__\u001b[0m\u001b[0;34m(\u001b[0m\u001b[0mself\u001b[0m\u001b[0;34m,\u001b[0m \u001b[0mcompany\u001b[0m\u001b[0;34m)\u001b[0m\u001b[0;34m:\u001b[0m\u001b[0;34m\u001b[0m\u001b[0;34m\u001b[0m\u001b[0m\n",
      "\u001b[0;31mTypeError\u001b[0m: 'int' object is not subscriptable"
     ]
    }
   ],
   "source": [
    "c1.addClient('SNCF', 1000)"
   ]
  },
  {
   "cell_type": "code",
   "execution_count": null,
   "metadata": {},
   "outputs": [],
   "source": [
    "client_list = ['SNCF', 'EDF', 'GDF', 'BNP', 'HSBC']\n",
    "benefits_list = [1000, 500, 800, 900, 1200]\n"
   ]
  },
  {
   "cell_type": "markdown",
   "metadata": {},
   "source": [
    "<hr size=\"30\">\n",
    "<font size=\"5\"><u>Les types de variables</u></font><br /><br />"
   ]
  },
  {
   "cell_type": "code",
   "execution_count": 116,
   "metadata": {},
   "outputs": [
    {
     "name": "stdout",
     "output_type": "stream",
     "text": [
      "Hello World  :  <class 'str'>\n",
      "20  :  <class 'int'>\n",
      "20.5  :  <class 'float'>\n",
      "1j  :  <class 'complex'>\n",
      "['BGFi', 'Adneom', 'PTC']  :  <class 'list'>\n",
      "('BGFI', 'Adneom', 'PTC')  :  <class 'tuple'>\n",
      "range(0, 4)  :  <class 'range'>\n",
      "{'Nom': 'BGFi', 'Taille': 200}  :  <class 'dict'>\n",
      "True  :  <class 'bool'>\n",
      "20  :  <class 'int'>\n",
      "20.0  :  <class 'float'>\n"
     ]
    }
   ],
   "source": [
    "d = [\"Hello World\", \n",
    "     20, \n",
    "     20.5, \n",
    "     1j, \n",
    "     [\"BGFi\", \"Adneom\", \"PTC\"],\n",
    "     (\"BGFI\", \"Adneom\", \"PTC\"),\n",
    "     range(4),\n",
    "     {\"Nom\":\"BGFi\", \"Taille\":200},\n",
    "     True,\n",
    "     int(20.5),\n",
    "     float(20)]\n",
    "\n",
    "for iField in d:\n",
    "    print(iField, \" : \", type(iField))"
   ]
  },
  {
   "cell_type": "markdown",
   "metadata": {},
   "source": [
    "<hr size=\"30\">\n",
    "<font size=\"5\"><u>\"Hello, World!\"</u></font><br /><br />\n",
    "\n",
    "A chaque fois que l'on découvre un nouveau langage, la tradition est d'apprendre à écrire le programme permettant de sortir \"Hello, World!\"<br />\n",
    "\n",
    "<i>Première méthode :</i>"
   ]
  },
  {
   "cell_type": "code",
   "execution_count": 117,
   "metadata": {},
   "outputs": [
    {
     "name": "stdout",
     "output_type": "stream",
     "text": [
      "Hello, World!\n"
     ]
    }
   ],
   "source": [
    "print(\"Hello, World!\")"
   ]
  },
  {
   "cell_type": "markdown",
   "metadata": {},
   "source": [
    "<i>Deuxième méthode :</i>"
   ]
  },
  {
   "cell_type": "code",
   "execution_count": 118,
   "metadata": {},
   "outputs": [
    {
     "name": "stdout",
     "output_type": "stream",
     "text": [
      "Hello, World!\n"
     ]
    }
   ],
   "source": [
    "def HelloWorld():\n",
    "    print(\"Hello, World!\")\n",
    "HelloWorld()"
   ]
  },
  {
   "cell_type": "markdown",
   "metadata": {},
   "source": [
    "<i>Troisième méthode :</i>"
   ]
  },
  {
   "cell_type": "code",
   "execution_count": 119,
   "metadata": {},
   "outputs": [
    {
     "name": "stdout",
     "output_type": "stream",
     "text": [
      "Hello, World!\n"
     ]
    }
   ],
   "source": [
    "class HelloWorld:\n",
    "    '''\n",
    "        Description : Classe permettant d'afficher le message \"Hello, World!\"\n",
    "    '''\n",
    "    def __init__(self):\n",
    "        print(\"Hello, World!\")\n",
    "c = HelloWorld()"
   ]
  },
  {
   "cell_type": "markdown",
   "metadata": {},
   "source": [
    "<i>Quatrième méthode :</i>"
   ]
  },
  {
   "cell_type": "code",
   "execution_count": 120,
   "metadata": {},
   "outputs": [
    {
     "name": "stdout",
     "output_type": "stream",
     "text": [
      "Hello, World!\n"
     ]
    }
   ],
   "source": [
    "class HelloWorld:\n",
    "    '''\n",
    "        Description : Classe permettant d'afficher le message \"Hello, World!\"\n",
    "    '''\n",
    "    def __init__(self):\n",
    "        self.message = \"Hello, World!\"\n",
    "    \n",
    "    def printMessage(self):\n",
    "        print(self.message)\n",
    "\n",
    "c = HelloWorld()\n",
    "c.printMessage()"
   ]
  },
  {
   "cell_type": "markdown",
   "metadata": {},
   "source": [
    "<i>Cinquième méthode :</i>"
   ]
  },
  {
   "cell_type": "code",
   "execution_count": 121,
   "metadata": {},
   "outputs": [
    {
     "data": {
      "text/plain": [
       "Hello, World!"
      ]
     },
     "execution_count": 121,
     "metadata": {},
     "output_type": "execute_result"
    }
   ],
   "source": [
    "class HelloWorld:\n",
    "    '''\n",
    "        Description : Classe permettant d'afficher le message \"Hello, World!\"\n",
    "    '''\n",
    "    def __init__(self):\n",
    "        self.message = \"Hello, World!\"\n",
    "    \n",
    "    def __repr__(self):\n",
    "        return self.message\n",
    "\n",
    "c = HelloWorld()\n",
    "c"
   ]
  },
  {
   "cell_type": "markdown",
   "metadata": {},
   "source": [
    "<hr size=\"30\">\n",
    "<font size=\"5\"><u>Lecture — Ecriture</u></font><br /><br />\n",
    "Les processus de lecture et d'écriture de fichiers sont essentiels lors d'un projet de Data Science.<br />\n",
    "En effet, les données sont très souvent stockées soit sous forme de fichiers, soit sur des serveurs.<br />\n",
    "Nous ne verrons ici, pour le moment, que la lecture et l'écriture de fichiers en local."
   ]
  },
  {
   "cell_type": "code",
   "execution_count": 15,
   "metadata": {},
   "outputs": [
    {
     "name": "stdout",
     "output_type": "stream",
     "text": [
      "On a ajouté du texte ici !\n",
      "\n"
     ]
    }
   ],
   "source": [
    "path_name = \"/Users/bcl/SciWork/BGFi/CareerBooster/Session1/Data\"\n",
    "file_name = \"exemple.txt\"\n",
    "\n",
    "# Ecriture du fichier \n",
    "f = open(path_name + '/' + file_name, 'w')\n",
    "f.write(\"On a ajouté du texte ici !\\n\")\n",
    "f.close()\n",
    "\n",
    "# Lecture du fichier\n",
    "f = open(path_name + '/' + file_name, 'r')\n",
    "print(f.read())"
   ]
  },
  {
   "cell_type": "code",
   "execution_count": 16,
   "metadata": {},
   "outputs": [
    {
     "name": "stdout",
     "output_type": "stream",
     "text": [
      "On a ajouté du texte ici !\n",
      "On a ajouté la ligne 2 ici\n",
      "On a ajouté la ligne 3 ici\n",
      "On a ajouté la ligne 4 ici\n",
      "On a ajouté la ligne 5 ici\n",
      "On a ajouté la ligne 6 ici\n",
      "\n"
     ]
    }
   ],
   "source": [
    "# Ecriture dans le fichier avec l'option 'a' = 'append'\n",
    "f = open(path_name + '/' + file_name, 'a')\n",
    "for iCpt in range(5):\n",
    "    f.write(\"On a ajouté la ligne \" + str(iCpt+2) + \" ici\\n\")\n",
    "f.close()\n",
    "\n",
    "# Lecture du fichier\n",
    "f = open(path_name + '/' + file_name, 'r')\n",
    "print(f.read())"
   ]
  },
  {
   "cell_type": "markdown",
   "metadata": {},
   "source": [
    "<i>Import de CSV</i>"
   ]
  },
  {
   "cell_type": "code",
   "execution_count": 17,
   "metadata": {},
   "outputs": [
    {
     "name": "stdout",
     "output_type": "stream",
     "text": [
      "['Nom', 'Prenom', 'De', 'Age', 'Session 1', 'Session 2', 'Session 3 ', 'Session 4', 'Session 5']\n",
      "['BASSALAH', 'Mehdi', 'ADNEOM FR', '', '', '', '', '', '']\n",
      "['AKHERRAZ', 'Faysal', 'Bgfi', '', '', '', '', '', '']\n",
      "['CHKALATE', 'Abdelali', 'Bgfi', '', '', '', '', '', '']\n",
      "['MHAMED', 'Ala Eddine', 'Bgfi', '', '', '', '', '', '']\n",
      "['TANNEAU', 'Christophe', 'Bgfi', '', '', '', '', '', '']\n",
      "['THAMINE', 'Sarra', 'Bgfi', '', '', '', '', '', '']\n",
      "['LAMCHARFI', 'Marwa', 'Bgfi', '', '', '', '', '', '']\n",
      "['AISSA', 'Wiem', 'Bgfi', '', '', '', '', '', '']\n",
      "['EL FEHEM', 'Ines', 'Bgfi', '', '', '', '', '', '']\n",
      "['EL HAJIBI', 'Hicham', 'Bgfi', '', '', '', '', '', '']\n",
      "['SAIDOUN', 'Yasmine', 'ADNEOM FR', '', '', '', '', '', '']\n"
     ]
    }
   ],
   "source": [
    "import csv\n",
    "\n",
    "path_name = \"/Users/bcl/SciWork/BGFi/CareerBooster/Session1/Data\"\n",
    "file_name = \"exemple.csv\"\n",
    "with open(path_name + '/' + file_name, newline='', encoding='utf-8-sig') as csvfile:\n",
    "    contacts_reader = csv.reader(csvfile, delimiter=';', quotechar='\"')\n",
    "    for line in contacts_reader:\n",
    "        print(line)"
   ]
  },
  {
   "cell_type": "code",
   "execution_count": null,
   "metadata": {},
   "outputs": [],
   "source": []
  },
  {
   "cell_type": "markdown",
   "metadata": {},
   "source": [
    "<hr size=\"30\">\n",
    "<font size=\"5\"><u>NumPy</u></font><br /><br />\n",
    "\n",
    "Wikipedia : <i>NumPy est une extension du langage de programmation Python, destinée à manipuler des matrices ou tableaux multidimensionnels ainsi que des fonctions mathématiques opérant sur ces tableaux.\n",
    "\n",
    "Plus précisément, cette bibliothèque logicielle libre et open source fournit de multiples fonctions permettant notamment de créer directement un tableau depuis un fichier ou au contraire de sauvegarder un tableau dans un fichier, et manipuler des vecteurs, matrices et polynômes.\n",
    "\n",
    "NumPy est la base de SciPy, regroupement de bibliothèques Python autour du calcul scientifique. </i>"
   ]
  },
  {
   "cell_type": "code",
   "execution_count": 55,
   "metadata": {},
   "outputs": [],
   "source": [
    "import numpy as np\n",
    "\n",
    "np.random.seed(0)  # graine constante pour assurer la reproductibilité des résultats\n",
    "\n",
    "x1 = np.random.randint(10, size=6)  # 1D array\n",
    "x2 = np.random.randint(10, size=(3, 4))  # 2D array\n",
    "x3 = np.random.randint(10, size=(3, 4, 5))  # 3D array"
   ]
  },
  {
   "cell_type": "code",
   "execution_count": 28,
   "metadata": {},
   "outputs": [
    {
     "name": "stdout",
     "output_type": "stream",
     "text": [
      "[5 0 3 3 7 9]\n"
     ]
    }
   ],
   "source": [
    "print(x1)"
   ]
  },
  {
   "cell_type": "code",
   "execution_count": 27,
   "metadata": {},
   "outputs": [
    {
     "name": "stdout",
     "output_type": "stream",
     "text": [
      "[[3 5 2 4]\n",
      " [7 6 8 8]\n",
      " [1 6 7 7]]\n"
     ]
    }
   ],
   "source": [
    "print(x2)"
   ]
  },
  {
   "cell_type": "code",
   "execution_count": 29,
   "metadata": {},
   "outputs": [
    {
     "name": "stdout",
     "output_type": "stream",
     "text": [
      "[[[8 1 5 9 8]\n",
      "  [9 4 3 0 3]\n",
      "  [5 0 2 3 8]\n",
      "  [1 3 3 3 7]]\n",
      "\n",
      " [[0 1 9 9 0]\n",
      "  [4 7 3 2 7]\n",
      "  [2 0 0 4 5]\n",
      "  [5 6 8 4 1]]\n",
      "\n",
      " [[4 9 8 1 1]\n",
      "  [7 9 9 3 6]\n",
      "  [7 2 0 3 5]\n",
      "  [9 4 4 6 4]]]\n"
     ]
    }
   ],
   "source": [
    "print(x3)"
   ]
  },
  {
   "cell_type": "code",
   "execution_count": 24,
   "metadata": {},
   "outputs": [
    {
     "name": "stdout",
     "output_type": "stream",
     "text": [
      "Nombre de dimensions de x3 : 3\n",
      "Taille de chaque dimension : (3, 4, 5)\n",
      "Nombre d'éléments au total : 60\n"
     ]
    }
   ],
   "source": [
    "print(\"Nombre de dimensions de x3 :\", x3.ndim)\n",
    "print(\"Taille de chaque dimension :\", x3.shape)\n",
    "print(\"Nombre d'éléments au total :\", x3.size)"
   ]
  },
  {
   "cell_type": "code",
   "execution_count": 30,
   "metadata": {},
   "outputs": [
    {
     "data": {
      "text/plain": [
       "4"
      ]
     },
     "execution_count": 30,
     "metadata": {},
     "output_type": "execute_result"
    }
   ],
   "source": [
    "x2[0, 3]"
   ]
  },
  {
   "cell_type": "code",
   "execution_count": 35,
   "metadata": {},
   "outputs": [
    {
     "data": {
      "text/plain": [
       "array([3, 5, 2])"
      ]
     },
     "execution_count": 35,
     "metadata": {},
     "output_type": "execute_result"
    }
   ],
   "source": [
    "x2[0][:3]"
   ]
  },
  {
   "cell_type": "code",
   "execution_count": 39,
   "metadata": {},
   "outputs": [
    {
     "name": "stdout",
     "output_type": "stream",
     "text": [
      "[0 3 9]\n"
     ]
    }
   ],
   "source": [
    "print(x1[1::2])"
   ]
  },
  {
   "cell_type": "code",
   "execution_count": 51,
   "metadata": {},
   "outputs": [
    {
     "name": "stdout",
     "output_type": "stream",
     "text": [
      "[[3 5 2]\n",
      " [7 6 8]]\n"
     ]
    }
   ],
   "source": [
    "x2_sub = x2[:2, :3]\n",
    "print(x2_sub)"
   ]
  },
  {
   "cell_type": "code",
   "execution_count": 52,
   "metadata": {},
   "outputs": [
    {
     "name": "stdout",
     "output_type": "stream",
     "text": [
      "[[-10   5   2   4]\n",
      " [  7   6   8   8]\n",
      " [  1   6   7   7]]\n"
     ]
    }
   ],
   "source": [
    "x2_sub[0, 0] = -10\n",
    "print(x2)"
   ]
  },
  {
   "cell_type": "code",
   "execution_count": 54,
   "metadata": {},
   "outputs": [
    {
     "name": "stdout",
     "output_type": "stream",
     "text": [
      "[[-10   5   2   4]\n",
      " [  7   6   8   8]\n",
      " [  1   6   7   7]]\n"
     ]
    }
   ],
   "source": [
    "x2_copy = x2[:2, :3].copy()\n",
    "x2_copy[0, 0] = -20\n",
    "print(x2)"
   ]
  },
  {
   "cell_type": "code",
   "execution_count": null,
   "metadata": {},
   "outputs": [],
   "source": []
  }
 ],
 "metadata": {
  "celltoolbar": "Format de la Cellule Texte Brut",
  "kernelspec": {
   "display_name": "Python 3",
   "language": "python",
   "name": "python3"
  },
  "language_info": {
   "codemirror_mode": {
    "name": "ipython",
    "version": 3
   },
   "file_extension": ".py",
   "mimetype": "text/x-python",
   "name": "python",
   "nbconvert_exporter": "python",
   "pygments_lexer": "ipython3",
   "version": "3.7.3"
  }
 },
 "nbformat": 4,
 "nbformat_minor": 2
}
