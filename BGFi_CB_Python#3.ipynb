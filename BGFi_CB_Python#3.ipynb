{
 "cells": [
  {
   "cell_type": "markdown",
   "metadata": {},
   "source": [
    "<font size=\"6\"><strong>Career Booster Python & Data Science</font></strong><br /><br />\n",
    "<font size=\"6\">Session 3</font><br /><br />\n",
    "Jeudi 7 Novembre 2019 <br /><br />"
   ]
  },
  {
   "cell_type": "markdown",
   "metadata": {},
   "source": [
    "Pandas"
   ]
  },
  {
   "cell_type": "code",
   "execution_count": 149,
   "metadata": {},
   "outputs": [],
   "source": [
    "import numpy as np\n",
    "import pandas as pd\n",
    "import matplotlib.pyplot as plt\n",
    "import collections\n",
    "import json\n",
    "from typing import Dict, List, Tuple, NoReturn "
   ]
  },
  {
   "cell_type": "code",
   "execution_count": 8,
   "metadata": {},
   "outputs": [
    {
     "ename": "ValueError",
     "evalue": "could not convert string to float: 'r'",
     "output_type": "error",
     "traceback": [
      "\u001b[1;31m---------------------------------------------------------------------------\u001b[0m",
      "\u001b[1;31mValueError\u001b[0m                                Traceback (most recent call last)",
      "\u001b[1;32m<ipython-input-8-a9aa36b14785>\u001b[0m in \u001b[0;36m<module>\u001b[1;34m\u001b[0m\n\u001b[0;32m      1\u001b[0m \u001b[0mvariable\u001b[0m \u001b[1;33m=\u001b[0m \u001b[1;34m'r'\u001b[0m\u001b[1;33m\u001b[0m\u001b[1;33m\u001b[0m\u001b[0m\n\u001b[1;32m----> 2\u001b[1;33m \u001b[0mfloat\u001b[0m\u001b[1;33m(\u001b[0m\u001b[0mvariable\u001b[0m\u001b[1;33m)\u001b[0m\u001b[1;33m\u001b[0m\u001b[1;33m\u001b[0m\u001b[0m\n\u001b[0m",
      "\u001b[1;31mValueError\u001b[0m: could not convert string to float: 'r'"
     ]
    }
   ],
   "source": [
    "variable = 'r'\n",
    "float(variable)"
   ]
  },
  {
   "cell_type": "code",
   "execution_count": 2,
   "metadata": {},
   "outputs": [],
   "source": [
    "def initializeDataset(json):\n",
    "    ds = {}\n",
    "    keys = json.keys()\n",
    "    for iKey in keys:\n",
    "        ds[iKey] = []\n",
    "    return ds, keys\n",
    "\n",
    "def readJson(file):\n",
    "    dataset = {}\n",
    "    keys = []\n",
    "    with open(file, encoding='utf-8') as file_lines:\n",
    "        for count, line in enumerate(file_lines):\n",
    "            data = json.loads(line.strip())\n",
    "            if count == 0:\n",
    "                dataset, keys = initializeDataset(data)\n",
    "            for iKey in keys:\n",
    "                dataset[iKey].append(data[iKey])\n",
    "        return pd.DataFrame(dataset)"
   ]
  },
  {
   "cell_type": "code",
   "execution_count": 4,
   "metadata": {},
   "outputs": [],
   "source": [
    "path_name = '../Data/yelp-dataset/'\n",
    "yelp_tips = readJson(path_name + 'tip.json')\n",
    "yelp_review = readJson(path_name + 'review.json')\n",
    "yelp_business = readJson(path_name + 'business.json')"
   ]
  },
  {
   "cell_type": "code",
   "execution_count": 5,
   "metadata": {},
   "outputs": [],
   "source": [
    "yelp_review['date'] = pd.to_datetime(yelp_review['date'], format='%Y-%m-%d')\n",
    "yelp_review['year'] = yelp_review.date.dt.year"
   ]
  },
  {
   "cell_type": "markdown",
   "metadata": {},
   "source": [
    "Avant d'effectuer quelque opération ou analyse que ce soit sur un jeu de données, il est indispensable de jeter un rapide coup d'oeil sur ce que ces données contiennent."
   ]
  },
  {
   "cell_type": "code",
   "execution_count": 157,
   "metadata": {},
   "outputs": [
    {
     "data": {
      "text/html": [
       "<div>\n",
       "<style scoped>\n",
       "    .dataframe tbody tr th:only-of-type {\n",
       "        vertical-align: middle;\n",
       "    }\n",
       "\n",
       "    .dataframe tbody tr th {\n",
       "        vertical-align: top;\n",
       "    }\n",
       "\n",
       "    .dataframe thead th {\n",
       "        text-align: right;\n",
       "    }\n",
       "</style>\n",
       "<table border=\"1\" class=\"dataframe\">\n",
       "  <thead>\n",
       "    <tr style=\"text-align: right;\">\n",
       "      <th></th>\n",
       "      <th>review_id</th>\n",
       "      <th>user_id</th>\n",
       "      <th>business_id</th>\n",
       "      <th>stars</th>\n",
       "      <th>useful</th>\n",
       "      <th>funny</th>\n",
       "      <th>cool</th>\n",
       "      <th>text</th>\n",
       "      <th>date</th>\n",
       "      <th>year</th>\n",
       "    </tr>\n",
       "  </thead>\n",
       "  <tbody>\n",
       "    <tr>\n",
       "      <th>0</th>\n",
       "      <td>Q1sbwvVQXV2734tPgoKj4Q</td>\n",
       "      <td>hG7b0MtEbXx5QzbzE6C_VA</td>\n",
       "      <td>ujmEBvifdJM6h6RLv4wQIg</td>\n",
       "      <td>1.0</td>\n",
       "      <td>6</td>\n",
       "      <td>1</td>\n",
       "      <td>0</td>\n",
       "      <td>Total bill for this horrible service? Over $8G...</td>\n",
       "      <td>2013-05-07 04:34:36</td>\n",
       "      <td>2013</td>\n",
       "    </tr>\n",
       "    <tr>\n",
       "      <th>1</th>\n",
       "      <td>GJXCdrto3ASJOqKeVWPi6Q</td>\n",
       "      <td>yXQM5uF2jS6es16SJzNHfg</td>\n",
       "      <td>NZnhc2sEQy3RmzKTZnqtwQ</td>\n",
       "      <td>5.0</td>\n",
       "      <td>0</td>\n",
       "      <td>0</td>\n",
       "      <td>0</td>\n",
       "      <td>I *adore* Travis at the Hard Rock's new Kelly ...</td>\n",
       "      <td>2017-01-14 21:30:33</td>\n",
       "      <td>2017</td>\n",
       "    </tr>\n",
       "    <tr>\n",
       "      <th>2</th>\n",
       "      <td>2TzJjDVDEuAW6MR5Vuc1ug</td>\n",
       "      <td>n6-Gk65cPZL6Uz8qRm3NYw</td>\n",
       "      <td>WTqjgwHlXbSFevF32_DJVw</td>\n",
       "      <td>5.0</td>\n",
       "      <td>3</td>\n",
       "      <td>0</td>\n",
       "      <td>0</td>\n",
       "      <td>I have to say that this office really has it t...</td>\n",
       "      <td>2016-11-09 20:09:03</td>\n",
       "      <td>2016</td>\n",
       "    </tr>\n",
       "    <tr>\n",
       "      <th>3</th>\n",
       "      <td>yi0R0Ugj_xUx_Nek0-_Qig</td>\n",
       "      <td>dacAIZ6fTM6mqwW5uxkskg</td>\n",
       "      <td>ikCg8xy5JIg_NGPx-MSIDA</td>\n",
       "      <td>5.0</td>\n",
       "      <td>0</td>\n",
       "      <td>0</td>\n",
       "      <td>0</td>\n",
       "      <td>Went in for a lunch. Steak sandwich was delici...</td>\n",
       "      <td>2018-01-09 20:56:38</td>\n",
       "      <td>2018</td>\n",
       "    </tr>\n",
       "    <tr>\n",
       "      <th>4</th>\n",
       "      <td>11a8sVPMUFtaC7_ABRkmtw</td>\n",
       "      <td>ssoyf2_x0EQMed6fgHeMyQ</td>\n",
       "      <td>b1b1eb3uo-w561D0ZfCEiQ</td>\n",
       "      <td>1.0</td>\n",
       "      <td>7</td>\n",
       "      <td>0</td>\n",
       "      <td>0</td>\n",
       "      <td>Today was my second out of three sessions I ha...</td>\n",
       "      <td>2018-01-30 23:07:38</td>\n",
       "      <td>2018</td>\n",
       "    </tr>\n",
       "  </tbody>\n",
       "</table>\n",
       "</div>"
      ],
      "text/plain": [
       "                review_id                 user_id             business_id  \\\n",
       "0  Q1sbwvVQXV2734tPgoKj4Q  hG7b0MtEbXx5QzbzE6C_VA  ujmEBvifdJM6h6RLv4wQIg   \n",
       "1  GJXCdrto3ASJOqKeVWPi6Q  yXQM5uF2jS6es16SJzNHfg  NZnhc2sEQy3RmzKTZnqtwQ   \n",
       "2  2TzJjDVDEuAW6MR5Vuc1ug  n6-Gk65cPZL6Uz8qRm3NYw  WTqjgwHlXbSFevF32_DJVw   \n",
       "3  yi0R0Ugj_xUx_Nek0-_Qig  dacAIZ6fTM6mqwW5uxkskg  ikCg8xy5JIg_NGPx-MSIDA   \n",
       "4  11a8sVPMUFtaC7_ABRkmtw  ssoyf2_x0EQMed6fgHeMyQ  b1b1eb3uo-w561D0ZfCEiQ   \n",
       "\n",
       "   stars  useful  funny  cool  \\\n",
       "0    1.0       6      1     0   \n",
       "1    5.0       0      0     0   \n",
       "2    5.0       3      0     0   \n",
       "3    5.0       0      0     0   \n",
       "4    1.0       7      0     0   \n",
       "\n",
       "                                                text                date  year  \n",
       "0  Total bill for this horrible service? Over $8G... 2013-05-07 04:34:36  2013  \n",
       "1  I *adore* Travis at the Hard Rock's new Kelly ... 2017-01-14 21:30:33  2017  \n",
       "2  I have to say that this office really has it t... 2016-11-09 20:09:03  2016  \n",
       "3  Went in for a lunch. Steak sandwich was delici... 2018-01-09 20:56:38  2018  \n",
       "4  Today was my second out of three sessions I ha... 2018-01-30 23:07:38  2018  "
      ]
     },
     "execution_count": 157,
     "metadata": {},
     "output_type": "execute_result"
    }
   ],
   "source": [
    "yelp_review.head()"
   ]
  },
  {
   "cell_type": "markdown",
   "metadata": {},
   "source": [
    "Ici, nous pouvons voir que le fichier 'review' consiste en:\n",
    "- un id\n",
    "- l'id de l'utilisateur qui a laissé le commentaire\n",
    "- l'id du business concerné par le commentaire\n",
    "- le nombre d'étoiles laissé\n",
    "- ...<br /><br />\n",
    "Savoir quelles sont les descripteurs présents dans notre jeu de données permet de savoir lesquels nous allons pouvoir supprimer afin d'alléger le jeu de données.\n",
    "Par exemple, dans le jeu de données 'business', est-il utile de conserver l'adresse du business lorsque nous avons les coordonnées GPS également ? (ou vice-versa)"
   ]
  },
  {
   "cell_type": "markdown",
   "metadata": {},
   "source": [
    "Ensuite, explorer les variables une à une :"
   ]
  },
  {
   "cell_type": "code",
   "execution_count": 158,
   "metadata": {},
   "outputs": [
    {
     "name": "stdout",
     "output_type": "stream",
     "text": [
      "Total reviews: 6685900\n",
      "Useful reviews: 3115446\n",
      "Funny reviews: 1373727\n",
      "Cool reviews: 1672612\n",
      "Total negative reviews: 1002159\n",
      "Total positive reviews: 4402067\n"
     ]
    }
   ],
   "source": [
    "useful_reviews = len(yelp_review[yelp_review[\"useful\"]>0])\n",
    "cool_reviews = len(yelp_review[yelp_review[\"cool\"]>0])\n",
    "funny_reviews = len(yelp_review[yelp_review[\"funny\"]>0])\n",
    "negative_reviews = len(yelp_review[yelp_review[\"stars\"]<2])\n",
    "positive_reviews =len(yelp_review[yelp_review[\"stars\"]>3])\n",
    "total_reviews = len(yelp_review)\n",
    "\n",
    "print(\"Total reviews: {}\".format(total_reviews))\n",
    "print(\"Useful reviews: {}\".format(useful_reviews))\n",
    "print(\"Funny reviews: {}\".format(funny_reviews))\n",
    "print(\"Cool reviews: {}\".format(cool_reviews))\n",
    "print(\"Total negative reviews: {}\".format(negative_reviews))\n",
    "print(\"Total positive reviews: {}\".format(positive_reviews))"
   ]
  },
  {
   "cell_type": "code",
   "execution_count": 17,
   "metadata": {},
   "outputs": [
    {
     "name": "stdout",
     "output_type": "stream",
     "text": [
      "4.0\n"
     ]
    }
   ],
   "source": [
    "median_stars = np.median(yelp_review['stars'])\n",
    "print(median_stars)"
   ]
  },
  {
   "cell_type": "code",
   "execution_count": 141,
   "metadata": {},
   "outputs": [
    {
     "name": "stdout",
     "output_type": "stream",
     "text": [
      "Total negative reviews: 2283833\n",
      "Total positive reviews: 4402067\n"
     ]
    }
   ],
   "source": [
    "negative_reviews = len(yelp_review[yelp_review[\"stars\"] < median_stars])\n",
    "positive_reviews =len(yelp_review[yelp_review[\"stars\"] >= median_stars])\n",
    "print(\"Total negative reviews: {}\".format(negative_reviews))\n",
    "print(\"Total positive reviews: {}\".format(positive_reviews))"
   ]
  },
  {
   "cell_type": "code",
   "execution_count": 159,
   "metadata": {},
   "outputs": [
    {
     "data": {
      "image/png": "[encoded data removed]",
      "text/plain": [
       "<Figure size 1008x432 with 1 Axes>"
      ]
     },
     "metadata": {
      "needs_background": "light"
     },
     "output_type": "display_data"
    }
   ],
   "source": [
    "top_reviewed = yelp_review[yelp_review[\"stars\"] >= median_stars]\n",
    "top_reviews_dict = {}\n",
    "\n",
    "for business_id in top_reviewed[\"business_id\"].values:\n",
    "    try :\n",
    "        top_reviews_dict[business_id] += 1\n",
    "    except:\n",
    "        top_reviews_dict[business_id] = 1\n",
    "        \n",
    "topbusiness = pd.DataFrame.from_dict(data=top_reviews_dict, orient=\"index\")\n",
    "\n",
    "topbusiness.reset_index(inplace=True)\n",
    "topbusiness.columns = ['business_id', 'rated']\n",
    "del(top_reviews_dict)\n",
    "del(top_reviewed)\n",
    "\n",
    "top_count = 50\n",
    "right = pd.DataFrame(yelp_business[['business_id',\"name\",\"categories\"]].values,\n",
    "                      columns=['business_id',\"Business name\",\"categories\"])\n",
    "\n",
    "top_business_data = pd.merge(topbusiness,right=right, how=\"inner\",on='business_id')\n",
    "top_business_data.sort_values(\"rated\")[::-1][:top_count].plot(x=\"Business name\",y=\"rated\", \n",
    "                                                   kind=\"bar\",figsize=(14,6),\n",
    "                                                   title='Positive reviews').set_ylabel(\"Total ratings\")\n",
    "\n",
    "del(topbusiness)\n",
    "del(right)"
   ]
  },
  {
   "cell_type": "code",
   "execution_count": 160,
   "metadata": {},
   "outputs": [
    {
     "data": {
      "image/png": "[encoded data removed]",
      "text/plain": [
       "<Figure size 720x504 with 1 Axes>"
      ]
     },
     "metadata": {
      "needs_background": "light"
     },
     "output_type": "display_data"
    },
    {
     "data": {
      "image/png": "[encoded data removed]",
      "text/plain": [
       "<Figure size 720x504 with 1 Axes>"
      ]
     },
     "metadata": {
      "needs_background": "light"
     },
     "output_type": "display_data"
    },
    {
     "data": {
      "image/png": "[encoded data removed]",
      "text/plain": [
       "<Figure size 720x504 with 1 Axes>"
      ]
     },
     "metadata": {
      "needs_background": "light"
     },
     "output_type": "display_data"
    }
   ],
   "source": [
    "num_business = 3\n",
    "business_ids = top_business_data.sort_values(\"rated\")[::-1][:num_business].business_id.values\n",
    "business_names = top_business_data.sort_values(\"rated\")[::-1][:num_business][\"Business name\"].values\n",
    "for i, business_id in enumerate(business_ids):\n",
    "    useful_b = yelp_review.loc[yelp_review['business_id'] == business_id]\n",
    "    useful_b = useful_b.groupby(['year']).size().reset_index(name='counts')\n",
    "    #print(useful_b.head())\n",
    "    series = pd.Series(useful_b[\"counts\"].values, index=useful_b[\"year\"].values, name='Review trend')\n",
    "    axes = series.plot(kind=\"bar\",figsize=(10, 7))\n",
    "    plt.xlabel('Year', axes=axes)\n",
    "    plt.ylabel('Total positive reviews', axes=axes)\n",
    "    plt.title('Review trend of {}'.format(business_names[i]), axes=axes)\n",
    "    plt.show()"
   ]
  },
  {
   "cell_type": "code",
   "execution_count": 37,
   "metadata": {},
   "outputs": [
    {
     "data": {
      "text/plain": [
       "count     192609\n",
       "unique        36\n",
       "top           AZ\n",
       "freq       56686\n",
       "Name: state, dtype: object"
      ]
     },
     "execution_count": 37,
     "metadata": {},
     "output_type": "execute_result"
    }
   ],
   "source": [
    "yelp_business['state'].describe()"
   ]
  },
  {
   "cell_type": "code",
   "execution_count": 39,
   "metadata": {},
   "outputs": [
    {
     "data": {
      "text/html": [
       "<div>\n",
       "<style scoped>\n",
       "    .dataframe tbody tr th:only-of-type {\n",
       "        vertical-align: middle;\n",
       "    }\n",
       "\n",
       "    .dataframe tbody tr th {\n",
       "        vertical-align: top;\n",
       "    }\n",
       "\n",
       "    .dataframe thead th {\n",
       "        text-align: right;\n",
       "    }\n",
       "</style>\n",
       "<table border=\"1\" class=\"dataframe\">\n",
       "  <thead>\n",
       "    <tr style=\"text-align: right;\">\n",
       "      <th></th>\n",
       "      <th>stars</th>\n",
       "      <th>useful</th>\n",
       "      <th>funny</th>\n",
       "      <th>cool</th>\n",
       "      <th>year</th>\n",
       "    </tr>\n",
       "  </thead>\n",
       "  <tbody>\n",
       "    <tr>\n",
       "      <th>count</th>\n",
       "      <td>6.685900e+06</td>\n",
       "      <td>6.685900e+06</td>\n",
       "      <td>6.685900e+06</td>\n",
       "      <td>6.685900e+06</td>\n",
       "      <td>6.685900e+06</td>\n",
       "    </tr>\n",
       "    <tr>\n",
       "      <th>mean</th>\n",
       "      <td>3.716199e+00</td>\n",
       "      <td>1.354134e+00</td>\n",
       "      <td>4.827667e-01</td>\n",
       "      <td>5.787708e-01</td>\n",
       "      <td>2.015134e+03</td>\n",
       "    </tr>\n",
       "    <tr>\n",
       "      <th>std</th>\n",
       "      <td>1.463643e+00</td>\n",
       "      <td>3.700192e+00</td>\n",
       "      <td>2.378646e+00</td>\n",
       "      <td>2.359024e+00</td>\n",
       "      <td>2.454348e+00</td>\n",
       "    </tr>\n",
       "    <tr>\n",
       "      <th>min</th>\n",
       "      <td>1.000000e+00</td>\n",
       "      <td>-1.000000e+00</td>\n",
       "      <td>0.000000e+00</td>\n",
       "      <td>-1.000000e+00</td>\n",
       "      <td>2.004000e+03</td>\n",
       "    </tr>\n",
       "    <tr>\n",
       "      <th>25%</th>\n",
       "      <td>3.000000e+00</td>\n",
       "      <td>0.000000e+00</td>\n",
       "      <td>0.000000e+00</td>\n",
       "      <td>0.000000e+00</td>\n",
       "      <td>2.014000e+03</td>\n",
       "    </tr>\n",
       "    <tr>\n",
       "      <th>50%</th>\n",
       "      <td>4.000000e+00</td>\n",
       "      <td>0.000000e+00</td>\n",
       "      <td>0.000000e+00</td>\n",
       "      <td>0.000000e+00</td>\n",
       "      <td>2.016000e+03</td>\n",
       "    </tr>\n",
       "    <tr>\n",
       "      <th>75%</th>\n",
       "      <td>5.000000e+00</td>\n",
       "      <td>2.000000e+00</td>\n",
       "      <td>0.000000e+00</td>\n",
       "      <td>1.000000e+00</td>\n",
       "      <td>2.017000e+03</td>\n",
       "    </tr>\n",
       "    <tr>\n",
       "      <th>max</th>\n",
       "      <td>5.000000e+00</td>\n",
       "      <td>1.241000e+03</td>\n",
       "      <td>1.290000e+03</td>\n",
       "      <td>5.060000e+02</td>\n",
       "      <td>2.018000e+03</td>\n",
       "    </tr>\n",
       "  </tbody>\n",
       "</table>\n",
       "</div>"
      ],
      "text/plain": [
       "              stars        useful         funny          cool          year\n",
       "count  6.685900e+06  6.685900e+06  6.685900e+06  6.685900e+06  6.685900e+06\n",
       "mean   3.716199e+00  1.354134e+00  4.827667e-01  5.787708e-01  2.015134e+03\n",
       "std    1.463643e+00  3.700192e+00  2.378646e+00  2.359024e+00  2.454348e+00\n",
       "min    1.000000e+00 -1.000000e+00  0.000000e+00 -1.000000e+00  2.004000e+03\n",
       "25%    3.000000e+00  0.000000e+00  0.000000e+00  0.000000e+00  2.014000e+03\n",
       "50%    4.000000e+00  0.000000e+00  0.000000e+00  0.000000e+00  2.016000e+03\n",
       "75%    5.000000e+00  2.000000e+00  0.000000e+00  1.000000e+00  2.017000e+03\n",
       "max    5.000000e+00  1.241000e+03  1.290000e+03  5.060000e+02  2.018000e+03"
      ]
     },
     "execution_count": 39,
     "metadata": {},
     "output_type": "execute_result"
    }
   ],
   "source": [
    "yelp_review.describe()"
   ]
  },
  {
   "cell_type": "code",
   "execution_count": 164,
   "metadata": {},
   "outputs": [
    {
     "data": {
      "text/html": [
       "<div>\n",
       "<style scoped>\n",
       "    .dataframe tbody tr th:only-of-type {\n",
       "        vertical-align: middle;\n",
       "    }\n",
       "\n",
       "    .dataframe tbody tr th {\n",
       "        vertical-align: top;\n",
       "    }\n",
       "\n",
       "    .dataframe thead th {\n",
       "        text-align: right;\n",
       "    }\n",
       "</style>\n",
       "<table border=\"1\" class=\"dataframe\">\n",
       "  <thead>\n",
       "    <tr style=\"text-align: right;\">\n",
       "      <th></th>\n",
       "      <th>latitude</th>\n",
       "      <th>longitude</th>\n",
       "      <th>stars</th>\n",
       "      <th>review_count</th>\n",
       "      <th>is_open</th>\n",
       "    </tr>\n",
       "  </thead>\n",
       "  <tbody>\n",
       "    <tr>\n",
       "      <th>count</th>\n",
       "      <td>192609.000000</td>\n",
       "      <td>192609.000000</td>\n",
       "      <td>192609.000000</td>\n",
       "      <td>192609.000000</td>\n",
       "      <td>192609.000000</td>\n",
       "    </tr>\n",
       "    <tr>\n",
       "      <th>mean</th>\n",
       "      <td>38.541803</td>\n",
       "      <td>-97.594785</td>\n",
       "      <td>3.585627</td>\n",
       "      <td>33.538962</td>\n",
       "      <td>0.823040</td>\n",
       "    </tr>\n",
       "    <tr>\n",
       "      <th>std</th>\n",
       "      <td>4.941964</td>\n",
       "      <td>16.697725</td>\n",
       "      <td>1.018458</td>\n",
       "      <td>110.135224</td>\n",
       "      <td>0.381635</td>\n",
       "    </tr>\n",
       "    <tr>\n",
       "      <th>min</th>\n",
       "      <td>33.204642</td>\n",
       "      <td>-115.493471</td>\n",
       "      <td>1.000000</td>\n",
       "      <td>3.000000</td>\n",
       "      <td>0.000000</td>\n",
       "    </tr>\n",
       "    <tr>\n",
       "      <th>25%</th>\n",
       "      <td>33.637408</td>\n",
       "      <td>-112.274677</td>\n",
       "      <td>3.000000</td>\n",
       "      <td>4.000000</td>\n",
       "      <td>1.000000</td>\n",
       "    </tr>\n",
       "    <tr>\n",
       "      <th>50%</th>\n",
       "      <td>36.144815</td>\n",
       "      <td>-111.759323</td>\n",
       "      <td>3.500000</td>\n",
       "      <td>9.000000</td>\n",
       "      <td>1.000000</td>\n",
       "    </tr>\n",
       "    <tr>\n",
       "      <th>75%</th>\n",
       "      <td>43.602989</td>\n",
       "      <td>-79.983614</td>\n",
       "      <td>4.500000</td>\n",
       "      <td>25.000000</td>\n",
       "      <td>1.000000</td>\n",
       "    </tr>\n",
       "    <tr>\n",
       "      <th>max</th>\n",
       "      <td>51.299943</td>\n",
       "      <td>-72.911982</td>\n",
       "      <td>5.000000</td>\n",
       "      <td>8348.000000</td>\n",
       "      <td>1.000000</td>\n",
       "    </tr>\n",
       "  </tbody>\n",
       "</table>\n",
       "</div>"
      ],
      "text/plain": [
       "            latitude      longitude          stars   review_count  \\\n",
       "count  192609.000000  192609.000000  192609.000000  192609.000000   \n",
       "mean       38.541803     -97.594785       3.585627      33.538962   \n",
       "std         4.941964      16.697725       1.018458     110.135224   \n",
       "min        33.204642    -115.493471       1.000000       3.000000   \n",
       "25%        33.637408    -112.274677       3.000000       4.000000   \n",
       "50%        36.144815    -111.759323       3.500000       9.000000   \n",
       "75%        43.602989     -79.983614       4.500000      25.000000   \n",
       "max        51.299943     -72.911982       5.000000    8348.000000   \n",
       "\n",
       "             is_open  \n",
       "count  192609.000000  \n",
       "mean        0.823040  \n",
       "std         0.381635  \n",
       "min         0.000000  \n",
       "25%         1.000000  \n",
       "50%         1.000000  \n",
       "75%         1.000000  \n",
       "max         1.000000  "
      ]
     },
     "execution_count": 164,
     "metadata": {},
     "output_type": "execute_result"
    }
   ],
   "source": [
    "yelp_business.describe()"
   ]
  },
  {
   "cell_type": "code",
   "execution_count": 170,
   "metadata": {},
   "outputs": [
    {
     "data": {
      "text/plain": [
       "{'whiskers': [<matplotlib.lines.Line2D at 0x242990a95f8>,\n",
       "  <matplotlib.lines.Line2D at 0x242990a97b8>],\n",
       " 'caps': [<matplotlib.lines.Line2D at 0x242990a96d8>,\n",
       "  <matplotlib.lines.Line2D at 0x242990a9be0>],\n",
       " 'boxes': [<matplotlib.lines.Line2D at 0x242c14f97f0>],\n",
       " 'medians': [<matplotlib.lines.Line2D at 0x2426a58ceb8>],\n",
       " 'fliers': [],\n",
       " 'means': []}"
      ]
     },
     "execution_count": 170,
     "metadata": {},
     "output_type": "execute_result"
    },
    {
     "data": {
      "image/png": "[encoded data removed]",
      "text/plain": [
       "<Figure size 432x288 with 1 Axes>"
      ]
     },
     "metadata": {
      "needs_background": "light"
     },
     "output_type": "display_data"
    }
   ],
   "source": [
    "fig, ax = plt.subplots(1, 1)\n",
    "ax.boxplot(yelp_business['review_count'], notch=True, vert=False, showfliers=False)\n",
    "#N, bins, patches = plt.hist(yelp_business['state'], bins=36)"
   ]
  },
  {
   "cell_type": "code",
   "execution_count": 171,
   "metadata": {},
   "outputs": [
    {
     "data": {
      "text/plain": [
       "<matplotlib.axes._subplots.AxesSubplot at 0x242c055be48>"
      ]
     },
     "execution_count": 171,
     "metadata": {},
     "output_type": "execute_result"
    },
    {
     "data": {
      "image/png": "[encoded data removed]",
      "text/plain": [
       "<Figure size 720x720 with 1 Axes>"
      ]
     },
     "metadata": {},
     "output_type": "display_data"
    }
   ],
   "source": [
    "num_cat =10 # to show top 10 catrgories\n",
    "top_business = 30 # choose categories of top 30 businesses\n",
    "cat_data = top_business_data.sort_values(\"rated\")[::-1][:top_business]\n",
    "#cat_data.categories\n",
    "Categories={}\n",
    "for cat in cat_data.categories.values:\n",
    "    all_categories= cat.split(\",\")\n",
    "    for x in all_categories:\n",
    "        try :\n",
    "            Categories[x] =Categories[x]+1\n",
    "        except:\n",
    "            Categories[x]=1\n",
    "top_categories = pd.DataFrame.from_dict(data= Categories,orient=\"index\")\n",
    "top_categories.reset_index(inplace=True)\n",
    "top_categories.columns = ['category', 'occurance']\n",
    "\n",
    "x_val=top_categories.sort_values(\"occurance\")[::-1][:num_cat].occurance.values\n",
    "labels=top_categories.sort_values(\"occurance\")[::-1][:num_cat].category.values\n",
    "series = pd.Series(x_val, index=labels, name='Top business types')\n",
    "series.plot.pie(figsize=(10, 10),startangle=90)"
   ]
  },
  {
   "cell_type": "code",
   "execution_count": 183,
   "metadata": {},
   "outputs": [
    {
     "name": "stdout",
     "output_type": "stream",
     "text": [
      "192609\n",
      "158525\n"
     ]
    }
   ],
   "source": [
    "print(len(yelp_business))\n",
    "open_restaurants = yelp_business[yelp_business['is_open'] == 1]\n",
    "print(len(open_restaurants))"
   ]
  },
  {
   "cell_type": "code",
   "execution_count": 182,
   "metadata": {},
   "outputs": [
    {
     "data": {
      "text/html": [
       "<div>\n",
       "<style scoped>\n",
       "    .dataframe tbody tr th:only-of-type {\n",
       "        vertical-align: middle;\n",
       "    }\n",
       "\n",
       "    .dataframe tbody tr th {\n",
       "        vertical-align: top;\n",
       "    }\n",
       "\n",
       "    .dataframe thead th {\n",
       "        text-align: right;\n",
       "    }\n",
       "</style>\n",
       "<table border=\"1\" class=\"dataframe\">\n",
       "  <thead>\n",
       "    <tr style=\"text-align: right;\">\n",
       "      <th></th>\n",
       "      <th>business_id</th>\n",
       "      <th>name</th>\n",
       "      <th>address</th>\n",
       "      <th>city</th>\n",
       "      <th>state</th>\n",
       "      <th>postal_code</th>\n",
       "      <th>latitude</th>\n",
       "      <th>longitude</th>\n",
       "      <th>stars</th>\n",
       "      <th>review_count</th>\n",
       "      <th>is_open</th>\n",
       "      <th>attributes</th>\n",
       "      <th>categories</th>\n",
       "      <th>hours</th>\n",
       "    </tr>\n",
       "  </thead>\n",
       "  <tbody>\n",
       "  </tbody>\n",
       "</table>\n",
       "</div>"
      ],
      "text/plain": [
       "Empty DataFrame\n",
       "Columns: [business_id, name, address, city, state, postal_code, latitude, longitude, stars, review_count, is_open, attributes, categories, hours]\n",
       "Index: []"
      ]
     },
     "execution_count": 182,
     "metadata": {},
     "output_type": "execute_result"
    }
   ],
   "source": []
  },
  {
   "cell_type": "code",
   "execution_count": 184,
   "metadata": {},
   "outputs": [
    {
     "data": {
      "text/plain": [
       "46910"
      ]
     },
     "execution_count": 184,
     "metadata": {},
     "output_type": "execute_result"
    }
   ],
   "source": [
    "open_restaurants = open_restaurants[open_restaurants['state'] == 'AZ']\n",
    "len(open_restaurants)"
   ]
  },
  {
   "cell_type": "code",
   "execution_count": 187,
   "metadata": {},
   "outputs": [
    {
     "data": {
      "text/plain": [
       "business_id     xOR85RicYj642O3_iJ7hgg\n",
       "name                Phoenix Valuations\n",
       "address               6340 E Thomas Rd\n",
       "city                        Scottsdale\n",
       "state                               AZ\n",
       "postal_code                      85251\n",
       "latitude                       33.4804\n",
       "longitude                     -111.946\n",
       "stars                              3.5\n",
       "review_count                         3\n",
       "is_open                              1\n",
       "attributes                        None\n",
       "categories                        None\n",
       "hours                             None\n",
       "Name: 265, dtype: object"
      ]
     },
     "execution_count": 187,
     "metadata": {},
     "output_type": "execute_result"
    }
   ],
   "source": [
    "open_restaurants.iloc[1]['categories'].lower()"
   ]
  },
  {
   "cell_type": "code",
   "execution_count": 186,
   "metadata": {},
   "outputs": [
    {
     "ename": "AttributeError",
     "evalue": "'NoneType' object has no attribute 'lower'",
     "output_type": "error",
     "traceback": [
      "\u001b[1;31m---------------------------------------------------------------------------\u001b[0m",
      "\u001b[1;31mAttributeError\u001b[0m                            Traceback (most recent call last)",
      "\u001b[1;32m<ipython-input-186-434a29155bdc>\u001b[0m in \u001b[0;36m<module>\u001b[1;34m\u001b[0m\n\u001b[1;32m----> 1\u001b[1;33m \u001b[1;33m[\u001b[0m\u001b[0miRest\u001b[0m \u001b[1;32mfor\u001b[0m \u001b[0miRest\u001b[0m \u001b[1;32min\u001b[0m \u001b[0mrange\u001b[0m\u001b[1;33m(\u001b[0m\u001b[0mlen\u001b[0m\u001b[1;33m(\u001b[0m\u001b[0mopen_restaurants\u001b[0m\u001b[1;33m)\u001b[0m\u001b[1;33m)\u001b[0m \u001b[1;32mif\u001b[0m \u001b[1;34m'restaurant'\u001b[0m \u001b[1;32min\u001b[0m \u001b[0mopen_restaurants\u001b[0m\u001b[1;33m.\u001b[0m\u001b[0miloc\u001b[0m\u001b[1;33m[\u001b[0m\u001b[0miRest\u001b[0m\u001b[1;33m]\u001b[0m\u001b[1;33m[\u001b[0m\u001b[1;34m'categories'\u001b[0m\u001b[1;33m]\u001b[0m\u001b[1;33m.\u001b[0m\u001b[0mlower\u001b[0m\u001b[1;33m(\u001b[0m\u001b[1;33m)\u001b[0m\u001b[1;33m]\u001b[0m\u001b[1;33m\u001b[0m\u001b[1;33m\u001b[0m\u001b[0m\n\u001b[0m",
      "\u001b[1;32m<ipython-input-186-434a29155bdc>\u001b[0m in \u001b[0;36m<listcomp>\u001b[1;34m(.0)\u001b[0m\n\u001b[1;32m----> 1\u001b[1;33m \u001b[1;33m[\u001b[0m\u001b[0miRest\u001b[0m \u001b[1;32mfor\u001b[0m \u001b[0miRest\u001b[0m \u001b[1;32min\u001b[0m \u001b[0mrange\u001b[0m\u001b[1;33m(\u001b[0m\u001b[0mlen\u001b[0m\u001b[1;33m(\u001b[0m\u001b[0mopen_restaurants\u001b[0m\u001b[1;33m)\u001b[0m\u001b[1;33m)\u001b[0m \u001b[1;32mif\u001b[0m \u001b[1;34m'restaurant'\u001b[0m \u001b[1;32min\u001b[0m \u001b[0mopen_restaurants\u001b[0m\u001b[1;33m.\u001b[0m\u001b[0miloc\u001b[0m\u001b[1;33m[\u001b[0m\u001b[0miRest\u001b[0m\u001b[1;33m]\u001b[0m\u001b[1;33m[\u001b[0m\u001b[1;34m'categories'\u001b[0m\u001b[1;33m]\u001b[0m\u001b[1;33m.\u001b[0m\u001b[0mlower\u001b[0m\u001b[1;33m(\u001b[0m\u001b[1;33m)\u001b[0m\u001b[1;33m]\u001b[0m\u001b[1;33m\u001b[0m\u001b[1;33m\u001b[0m\u001b[0m\n\u001b[0m",
      "\u001b[1;31mAttributeError\u001b[0m: 'NoneType' object has no attribute 'lower'"
     ]
    }
   ],
   "source": [
    "[iRest for iRest in range(len(open_restaurants)) if 'restaurant' in open_restaurants.iloc[iRest]['categories'].lower()]"
   ]
  },
  {
   "cell_type": "code",
   "execution_count": 188,
   "metadata": {},
   "outputs": [],
   "source": [
    "idx = []\n",
    "for iRest in range(len(open_restaurants)):\n",
    "    if not open_restaurants.iloc[iRest]['categories'] is None:\n",
    "        if 'restaurant' in open_restaurants.iloc[iRest]['categories'].lower():\n",
    "            idx.append(iRest)"
   ]
  },
  {
   "cell_type": "code",
   "execution_count": 189,
   "metadata": {},
   "outputs": [],
   "source": [
    "open_restaurants_az = open_restaurants.iloc[idx]"
   ]
  },
  {
   "cell_type": "code",
   "execution_count": 195,
   "metadata": {},
   "outputs": [
    {
     "data": {
      "text/html": [
       "<div>\n",
       "<style scoped>\n",
       "    .dataframe tbody tr th:only-of-type {\n",
       "        vertical-align: middle;\n",
       "    }\n",
       "\n",
       "    .dataframe tbody tr th {\n",
       "        vertical-align: top;\n",
       "    }\n",
       "\n",
       "    .dataframe thead th {\n",
       "        text-align: right;\n",
       "    }\n",
       "</style>\n",
       "<table border=\"1\" class=\"dataframe\">\n",
       "  <thead>\n",
       "    <tr style=\"text-align: right;\">\n",
       "      <th></th>\n",
       "      <th>business_id</th>\n",
       "      <th>name</th>\n",
       "      <th>address</th>\n",
       "      <th>city</th>\n",
       "      <th>state</th>\n",
       "      <th>postal_code</th>\n",
       "      <th>latitude</th>\n",
       "      <th>longitude</th>\n",
       "      <th>stars</th>\n",
       "      <th>review_count</th>\n",
       "      <th>is_open</th>\n",
       "      <th>attributes</th>\n",
       "      <th>categories</th>\n",
       "      <th>hours</th>\n",
       "    </tr>\n",
       "  </thead>\n",
       "  <tbody>\n",
       "    <tr>\n",
       "      <th>11</th>\n",
       "      <td>1Dfx3zM-rW4n-31KeC8sJg</td>\n",
       "      <td>Taco Bell</td>\n",
       "      <td>2450 E Indian School Rd</td>\n",
       "      <td>Phoenix</td>\n",
       "      <td>AZ</td>\n",
       "      <td>85016</td>\n",
       "      <td>33.495194</td>\n",
       "      <td>-112.028588</td>\n",
       "      <td>3.0</td>\n",
       "      <td>18</td>\n",
       "      <td>1</td>\n",
       "      <td>{'RestaurantsTakeOut': 'True', 'BusinessParkin...</td>\n",
       "      <td>Restaurants, Breakfast &amp; Brunch, Mexican, Taco...</td>\n",
       "      <td>{'Monday': '7:0-0:0', 'Tuesday': '7:0-0:0', 'W...</td>\n",
       "    </tr>\n",
       "    <tr>\n",
       "      <th>78</th>\n",
       "      <td>44YFU284Z3KDEy25QyVoUw</td>\n",
       "      <td>Nee House Chinese Restaurant</td>\n",
       "      <td>13843 N Tatum Blvd, Ste 15</td>\n",
       "      <td>Phoenix</td>\n",
       "      <td>AZ</td>\n",
       "      <td>85032</td>\n",
       "      <td>33.613020</td>\n",
       "      <td>-111.977036</td>\n",
       "      <td>3.5</td>\n",
       "      <td>269</td>\n",
       "      <td>1</td>\n",
       "      <td>{'Caters': 'True', 'GoodForKids': 'True', 'Noi...</td>\n",
       "      <td>Chinese, Restaurants</td>\n",
       "      <td>{'Monday': '11:0-21:0', 'Tuesday': '11:0-21:0'...</td>\n",
       "    </tr>\n",
       "    <tr>\n",
       "      <th>133</th>\n",
       "      <td>ysfeDcLAYk_MVzfBmyiSTg</td>\n",
       "      <td>Vals Getaway DES Cafeteria</td>\n",
       "      <td>1789 W Jefferson</td>\n",
       "      <td>Phoenix</td>\n",
       "      <td>AZ</td>\n",
       "      <td>85007</td>\n",
       "      <td>33.446806</td>\n",
       "      <td>-112.097129</td>\n",
       "      <td>3.0</td>\n",
       "      <td>14</td>\n",
       "      <td>1</td>\n",
       "      <td>{'RestaurantsDelivery': 'False', 'BusinessAcce...</td>\n",
       "      <td>Restaurants, Food, Cafes</td>\n",
       "      <td>None</td>\n",
       "    </tr>\n",
       "    <tr>\n",
       "      <th>162</th>\n",
       "      <td>nsNONDHbV7Vudqh21uicqw</td>\n",
       "      <td>Salt Cellar</td>\n",
       "      <td>550 N Hayden Rd</td>\n",
       "      <td>Scottsdale</td>\n",
       "      <td>AZ</td>\n",
       "      <td>85257</td>\n",
       "      <td>33.454286</td>\n",
       "      <td>-111.909405</td>\n",
       "      <td>3.5</td>\n",
       "      <td>526</td>\n",
       "      <td>1</td>\n",
       "      <td>{'BusinessAcceptsCreditCards': 'True', 'Restau...</td>\n",
       "      <td>Seafood, Restaurants</td>\n",
       "      <td>{'Monday': '16:0-0:0', 'Tuesday': '16:0-0:0', ...</td>\n",
       "    </tr>\n",
       "    <tr>\n",
       "      <th>181</th>\n",
       "      <td>Rs8Wi4OEjeOX7LVlzsXDOA</td>\n",
       "      <td>Sushi Mocorito</td>\n",
       "      <td>3415 West Glendale Ave, Bldg 25A</td>\n",
       "      <td>Phoenix</td>\n",
       "      <td>AZ</td>\n",
       "      <td>85051</td>\n",
       "      <td>33.537164</td>\n",
       "      <td>-112.132926</td>\n",
       "      <td>3.0</td>\n",
       "      <td>9</td>\n",
       "      <td>1</td>\n",
       "      <td>{'RestaurantsGoodForGroups': 'True', 'Business...</td>\n",
       "      <td>Restaurants, Mexican, Sushi Bars</td>\n",
       "      <td>{'Monday': '11:0-22:0', 'Tuesday': '11:0-22:0'...</td>\n",
       "    </tr>\n",
       "    <tr>\n",
       "      <th>187</th>\n",
       "      <td>MhnihE0alud0ereVInSt8Q</td>\n",
       "      <td>Yummy Yummy Chinese Restaurant</td>\n",
       "      <td>2765 N Scottsdale Rd, Ste 105</td>\n",
       "      <td>Scottsdale</td>\n",
       "      <td>AZ</td>\n",
       "      <td>85257</td>\n",
       "      <td>33.478754</td>\n",
       "      <td>-111.925484</td>\n",
       "      <td>3.0</td>\n",
       "      <td>188</td>\n",
       "      <td>1</td>\n",
       "      <td>{'OutdoorSeating': 'False', 'RestaurantsGoodFo...</td>\n",
       "      <td>Chinese, Restaurants</td>\n",
       "      <td>{'Monday': '11:0-21:30', 'Tuesday': '11:0-21:3...</td>\n",
       "    </tr>\n",
       "    <tr>\n",
       "      <th>273</th>\n",
       "      <td>dUffgo9Lh_Vk9TLuFR5ywg</td>\n",
       "      <td>Oregano's Pizza Bistro</td>\n",
       "      <td>1008 E Camelback Rd</td>\n",
       "      <td>Phoenix</td>\n",
       "      <td>AZ</td>\n",
       "      <td>85014</td>\n",
       "      <td>33.509510</td>\n",
       "      <td>-112.060238</td>\n",
       "      <td>3.5</td>\n",
       "      <td>563</td>\n",
       "      <td>1</td>\n",
       "      <td>{'Alcohol': 'u'full_bar'', 'RestaurantsAttire'...</td>\n",
       "      <td>Restaurants, Pizza, Sandwiches, Italian</td>\n",
       "      <td>{'Monday': '11:0-22:0', 'Tuesday': '11:0-22:0'...</td>\n",
       "    </tr>\n",
       "    <tr>\n",
       "      <th>276</th>\n",
       "      <td>c7JoAt6a3Ufkpn3TrGU23A</td>\n",
       "      <td>Santanas Mexican Food</td>\n",
       "      <td>1930 W Buckeye Rd</td>\n",
       "      <td>Phoenix</td>\n",
       "      <td>AZ</td>\n",
       "      <td>85009</td>\n",
       "      <td>33.436984</td>\n",
       "      <td>-112.101267</td>\n",
       "      <td>3.0</td>\n",
       "      <td>6</td>\n",
       "      <td>1</td>\n",
       "      <td>{'HasTV': 'True', 'Ambience': '{'romantic': Fa...</td>\n",
       "      <td>Mexican, Restaurants</td>\n",
       "      <td>None</td>\n",
       "    </tr>\n",
       "    <tr>\n",
       "      <th>298</th>\n",
       "      <td>vg4ynLZ0yJ89pT4s_CEMzQ</td>\n",
       "      <td>Five Guys</td>\n",
       "      <td>2340 E Baseline Rd</td>\n",
       "      <td>Phoenix</td>\n",
       "      <td>AZ</td>\n",
       "      <td>85042</td>\n",
       "      <td>33.378699</td>\n",
       "      <td>-112.031013</td>\n",
       "      <td>3.5</td>\n",
       "      <td>23</td>\n",
       "      <td>1</td>\n",
       "      <td>{'RestaurantsReservations': 'False', 'Restaura...</td>\n",
       "      <td>Fast Food, Restaurants, Burgers, Food</td>\n",
       "      <td>{'Monday': '11:0-22:0', 'Tuesday': '11:0-22:0'...</td>\n",
       "    </tr>\n",
       "    <tr>\n",
       "      <th>302</th>\n",
       "      <td>e-9f6vasnWh3z0uOq287Aw</td>\n",
       "      <td>Pizza Hut</td>\n",
       "      <td>2835 N 16th St, Ste 103</td>\n",
       "      <td>Phoenix</td>\n",
       "      <td>AZ</td>\n",
       "      <td>85006</td>\n",
       "      <td>33.479506</td>\n",
       "      <td>-112.046931</td>\n",
       "      <td>2.0</td>\n",
       "      <td>14</td>\n",
       "      <td>1</td>\n",
       "      <td>{'BikeParking': 'True', 'BusinessAcceptsCredit...</td>\n",
       "      <td>Restaurants, Italian, Pizza, Fast Food, Chicke...</td>\n",
       "      <td>None</td>\n",
       "    </tr>\n",
       "  </tbody>\n",
       "</table>\n",
       "</div>"
      ],
      "text/plain": [
       "                business_id                            name  \\\n",
       "11   1Dfx3zM-rW4n-31KeC8sJg                       Taco Bell   \n",
       "78   44YFU284Z3KDEy25QyVoUw    Nee House Chinese Restaurant   \n",
       "133  ysfeDcLAYk_MVzfBmyiSTg      Vals Getaway DES Cafeteria   \n",
       "162  nsNONDHbV7Vudqh21uicqw                     Salt Cellar   \n",
       "181  Rs8Wi4OEjeOX7LVlzsXDOA                  Sushi Mocorito   \n",
       "187  MhnihE0alud0ereVInSt8Q  Yummy Yummy Chinese Restaurant   \n",
       "273  dUffgo9Lh_Vk9TLuFR5ywg          Oregano's Pizza Bistro   \n",
       "276  c7JoAt6a3Ufkpn3TrGU23A           Santanas Mexican Food   \n",
       "298  vg4ynLZ0yJ89pT4s_CEMzQ                       Five Guys   \n",
       "302  e-9f6vasnWh3z0uOq287Aw                       Pizza Hut   \n",
       "\n",
       "                              address        city state postal_code  \\\n",
       "11            2450 E Indian School Rd     Phoenix    AZ       85016   \n",
       "78         13843 N Tatum Blvd, Ste 15     Phoenix    AZ       85032   \n",
       "133                  1789 W Jefferson     Phoenix    AZ       85007   \n",
       "162                   550 N Hayden Rd  Scottsdale    AZ       85257   \n",
       "181  3415 West Glendale Ave, Bldg 25A     Phoenix    AZ       85051   \n",
       "187     2765 N Scottsdale Rd, Ste 105  Scottsdale    AZ       85257   \n",
       "273               1008 E Camelback Rd     Phoenix    AZ       85014   \n",
       "276                 1930 W Buckeye Rd     Phoenix    AZ       85009   \n",
       "298                2340 E Baseline Rd     Phoenix    AZ       85042   \n",
       "302           2835 N 16th St, Ste 103     Phoenix    AZ       85006   \n",
       "\n",
       "      latitude   longitude  stars  review_count  is_open  \\\n",
       "11   33.495194 -112.028588    3.0            18        1   \n",
       "78   33.613020 -111.977036    3.5           269        1   \n",
       "133  33.446806 -112.097129    3.0            14        1   \n",
       "162  33.454286 -111.909405    3.5           526        1   \n",
       "181  33.537164 -112.132926    3.0             9        1   \n",
       "187  33.478754 -111.925484    3.0           188        1   \n",
       "273  33.509510 -112.060238    3.5           563        1   \n",
       "276  33.436984 -112.101267    3.0             6        1   \n",
       "298  33.378699 -112.031013    3.5            23        1   \n",
       "302  33.479506 -112.046931    2.0            14        1   \n",
       "\n",
       "                                            attributes  \\\n",
       "11   {'RestaurantsTakeOut': 'True', 'BusinessParkin...   \n",
       "78   {'Caters': 'True', 'GoodForKids': 'True', 'Noi...   \n",
       "133  {'RestaurantsDelivery': 'False', 'BusinessAcce...   \n",
       "162  {'BusinessAcceptsCreditCards': 'True', 'Restau...   \n",
       "181  {'RestaurantsGoodForGroups': 'True', 'Business...   \n",
       "187  {'OutdoorSeating': 'False', 'RestaurantsGoodFo...   \n",
       "273  {'Alcohol': 'u'full_bar'', 'RestaurantsAttire'...   \n",
       "276  {'HasTV': 'True', 'Ambience': '{'romantic': Fa...   \n",
       "298  {'RestaurantsReservations': 'False', 'Restaura...   \n",
       "302  {'BikeParking': 'True', 'BusinessAcceptsCredit...   \n",
       "\n",
       "                                            categories  \\\n",
       "11   Restaurants, Breakfast & Brunch, Mexican, Taco...   \n",
       "78                                Chinese, Restaurants   \n",
       "133                           Restaurants, Food, Cafes   \n",
       "162                               Seafood, Restaurants   \n",
       "181                   Restaurants, Mexican, Sushi Bars   \n",
       "187                               Chinese, Restaurants   \n",
       "273            Restaurants, Pizza, Sandwiches, Italian   \n",
       "276                               Mexican, Restaurants   \n",
       "298              Fast Food, Restaurants, Burgers, Food   \n",
       "302  Restaurants, Italian, Pizza, Fast Food, Chicke...   \n",
       "\n",
       "                                                 hours  \n",
       "11   {'Monday': '7:0-0:0', 'Tuesday': '7:0-0:0', 'W...  \n",
       "78   {'Monday': '11:0-21:0', 'Tuesday': '11:0-21:0'...  \n",
       "133                                               None  \n",
       "162  {'Monday': '16:0-0:0', 'Tuesday': '16:0-0:0', ...  \n",
       "181  {'Monday': '11:0-22:0', 'Tuesday': '11:0-22:0'...  \n",
       "187  {'Monday': '11:0-21:30', 'Tuesday': '11:0-21:3...  \n",
       "273  {'Monday': '11:0-22:0', 'Tuesday': '11:0-22:0'...  \n",
       "276                                               None  \n",
       "298  {'Monday': '11:0-22:0', 'Tuesday': '11:0-22:0'...  \n",
       "302                                               None  "
      ]
     },
     "execution_count": 195,
     "metadata": {},
     "output_type": "execute_result"
    }
   ],
   "source": [
    "open_restaurants_az.head(10)"
   ]
  },
  {
   "cell_type": "code",
   "execution_count": 126,
   "metadata": {},
   "outputs": [],
   "source": [
    "review_restaurants = yelp_review[yelp_review.business_id.isin(open_restaurants_az.business_id)]"
   ]
  },
  {
   "cell_type": "code",
   "execution_count": 127,
   "metadata": {},
   "outputs": [
    {
     "data": {
      "text/plain": [
       "1013463"
      ]
     },
     "execution_count": 127,
     "metadata": {},
     "output_type": "execute_result"
    }
   ],
   "source": [
    "len(review_restaurants)"
   ]
  },
  {
   "cell_type": "code",
   "execution_count": 138,
   "metadata": {},
   "outputs": [
    {
     "data": {
      "text/html": [
       "<div>\n",
       "<style scoped>\n",
       "    .dataframe tbody tr th:only-of-type {\n",
       "        vertical-align: middle;\n",
       "    }\n",
       "\n",
       "    .dataframe tbody tr th {\n",
       "        vertical-align: top;\n",
       "    }\n",
       "\n",
       "    .dataframe thead th {\n",
       "        text-align: right;\n",
       "    }\n",
       "</style>\n",
       "<table border=\"1\" class=\"dataframe\">\n",
       "  <thead>\n",
       "    <tr style=\"text-align: right;\">\n",
       "      <th></th>\n",
       "      <th>business_id</th>\n",
       "      <th>name</th>\n",
       "      <th>address</th>\n",
       "      <th>city</th>\n",
       "      <th>state</th>\n",
       "      <th>postal_code</th>\n",
       "      <th>latitude</th>\n",
       "      <th>longitude</th>\n",
       "      <th>stars</th>\n",
       "      <th>review_count</th>\n",
       "      <th>is_open</th>\n",
       "      <th>attributes</th>\n",
       "      <th>categories</th>\n",
       "      <th>hours</th>\n",
       "    </tr>\n",
       "  </thead>\n",
       "  <tbody>\n",
       "    <tr>\n",
       "      <th>16973</th>\n",
       "      <td>3JxKzWquEbPC3yPIfoCiLw</td>\n",
       "      <td>Eest Asian Bistro</td>\n",
       "      <td>3145 N Dysart Rd, Ste C102</td>\n",
       "      <td>Avondale</td>\n",
       "      <td>AZ</td>\n",
       "      <td>85392</td>\n",
       "      <td>33.481101</td>\n",
       "      <td>-112.339392</td>\n",
       "      <td>4.0</td>\n",
       "      <td>148</td>\n",
       "      <td>1</td>\n",
       "      <td>{'Alcohol': 'u'beer_and_wine'', 'RestaurantsAt...</td>\n",
       "      <td>Restaurants, Asian Fusion</td>\n",
       "      <td>{'Tuesday': '11:0-21:30', 'Wednesday': '11:0-2...</td>\n",
       "    </tr>\n",
       "  </tbody>\n",
       "</table>\n",
       "</div>"
      ],
      "text/plain": [
       "                  business_id               name                     address  \\\n",
       "16973  3JxKzWquEbPC3yPIfoCiLw  Eest Asian Bistro  3145 N Dysart Rd, Ste C102   \n",
       "\n",
       "           city state postal_code   latitude   longitude  stars  review_count  \\\n",
       "16973  Avondale    AZ       85392  33.481101 -112.339392    4.0           148   \n",
       "\n",
       "       is_open                                         attributes  \\\n",
       "16973        1  {'Alcohol': 'u'beer_and_wine'', 'RestaurantsAt...   \n",
       "\n",
       "                      categories  \\\n",
       "16973  Restaurants, Asian Fusion   \n",
       "\n",
       "                                                   hours  \n",
       "16973  {'Tuesday': '11:0-21:30', 'Wednesday': '11:0-2...  "
      ]
     },
     "execution_count": 138,
     "metadata": {},
     "output_type": "execute_result"
    }
   ],
   "source": [
    "review_restaurants.head()\n",
    "open_restaurants_az.loc[open_restaurants_az['business_id'] == review_restaurants.iloc[4]['business_id']]"
   ]
  },
  {
   "cell_type": "code",
   "execution_count": 145,
   "metadata": {},
   "outputs": [
    {
     "data": {
      "text/plain": [
       "array(['mRUVMJkUGxrByzMQ2MuOpA', 'cHdJXLlKNWixBXpDwEGb_A',\n",
       "       '6lj2BJ4tJeu7db5asGHQ4w', ..., 'mFTSdfJOv4X5t8LeeY4nJw',\n",
       "       'CRVtzesMuwHK-phmS_ojaA', 'yA6dKNm_zl1ucZCnwW8ZCg'], dtype=object)"
      ]
     },
     "execution_count": 145,
     "metadata": {},
     "output_type": "execute_result"
    }
   ],
   "source": [
    "review_restaurants['business_id'].values"
   ]
  },
  {
   "cell_type": "code",
   "execution_count": 156,
   "metadata": {},
   "outputs": [
    {
     "data": {
      "text/plain": [
       "\"I have to say that this office really has it together, they are so organized and friendly!  Dr. J. Phillipp is a great dentist, very friendly and professional.  The dental assistants that helped in my procedure were amazing, Jewel and Bailey helped me to feel comfortable!  I don't have dental insurance, but they have this insurance through their office you can purchase for $80 something a year and this gave me 25% off all of my dental work, plus they helped me get signed up for care credit which I knew nothing about before this visit!  I highly recommend this office for the nice synergy the whole office has!\""
      ]
     },
     "execution_count": 156,
     "metadata": {},
     "output_type": "execute_result"
    }
   ],
   "source": []
  },
  {
   "cell_type": "code",
   "execution_count": null,
   "metadata": {},
   "outputs": [],
   "source": []
  }
 ],
 "metadata": {
  "kernelspec": {
   "display_name": "Python 3",
   "language": "python",
   "name": "python3"
  },
  "language_info": {
   "codemirror_mode": {
    "name": "ipython",
    "version": 3
   },
   "file_extension": ".py",
   "mimetype": "text/x-python",
   "name": "python",
   "nbconvert_exporter": "python",
   "pygments_lexer": "ipython3",
   "version": "3.7.3"
  }
 },
 "nbformat": 4,
 "nbformat_minor": 2
}
